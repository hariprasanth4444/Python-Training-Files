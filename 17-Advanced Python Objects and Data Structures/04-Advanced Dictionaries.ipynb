{
 "cells": [
  {
   "cell_type": "markdown",
   "metadata": {},
   "source": [
    "# Advanced Dictionaries\n",
    "Unlike some of the other Data Structures we've worked with, most of the really useful methods available to us in Dictionaries have already been explored throughout this course. Here we will touch on just a few more for good measure:"
   ]
  },
  {
   "cell_type": "raw",
   "metadata": {},
   "source": [
    "Dictionary - Python dictionary is an ordered collection of items which stores element in key/value pair,Where keys are unique indetifiers that are associated with each values. Ex- \n",
    "Key       Values\n",
    "Nepal     kathamandu\n",
    "Italy     Rome\n",
    "England   London"
   ]
  },
  {
   "cell_type": "markdown",
   "metadata": {},
   "source": [
    "# Creat a Dictionary in Python"
   ]
  },
  {
   "cell_type": "code",
   "execution_count": 2,
   "metadata": {},
   "outputs": [
    {
     "data": {
      "text/plain": [
       "{'Nepal': 'Kathmandu', 'Italy': 'Rome', 'Engalnd': 'London'}"
      ]
     },
     "execution_count": 2,
     "metadata": {},
     "output_type": "execute_result"
    }
   ],
   "source": [
    "capital_city = {\"Nepal\":\"Kathmandu\",\"Italy\":\"Rome\",\"Engalnd\":\"London\"}\n",
    "capital_city\n"
   ]
  },
  {
   "cell_type": "raw",
   "metadata": {},
   "source": [
    "In the above example , Keys are \"Nepal\",\"Italy\",\"England\"\n",
    "Values are \"Kathmandu\",\"Rome\",\"London\"  \n",
    "Here keys and values are of string data type. But we can also have keys and values of different data types"
   ]
  },
  {
   "cell_type": "code",
   "execution_count": 3,
   "metadata": {},
   "outputs": [
    {
     "data": {
      "text/plain": [
       "{1: 'One', 2: 'Two', 3: 'Three'}"
      ]
     },
     "execution_count": 3,
     "metadata": {},
     "output_type": "execute_result"
    }
   ],
   "source": [
    "numbers = {1:\"One\",2:\"Two\",3:\"Three\"}\n",
    "numbers\n",
    "#Here keys are of integer data types and values are of string data types"
   ]
  },
  {
   "cell_type": "markdown",
   "metadata": {},
   "source": [
    "#Add elements to a python Dictionary\n",
    "We can add elements to the dictionary using the name of the dictionary with []."
   ]
  },
  {
   "cell_type": "code",
   "execution_count": 4,
   "metadata": {},
   "outputs": [
    {
     "name": "stdout",
     "output_type": "stream",
     "text": [
      "Before adding value to the dictionary :  {1: 'One', 2: 'Two', 3: 'Three'}\n",
      "After adding value to the dictionary: {1: 'One', 2: 'Two', 3: 'Three', 4: 'Four'}\n"
     ]
    }
   ],
   "source": [
    "print(\"Before adding value to the dictionary : \" , numbers)\n",
    "numbers[4] = \"Four\"\n",
    "print(\"After adding value to the dictionary:\" , numbers)"
   ]
  },
  {
   "cell_type": "code",
   "execution_count": 5,
   "metadata": {},
   "outputs": [
    {
     "name": "stdout",
     "output_type": "stream",
     "text": [
      "Before changing the value of numbers[2] Two\n",
      "After changing the value of number[2] Changed Two\n"
     ]
    }
   ],
   "source": [
    "#Change the value of dictionary\n",
    "#we can change the value by using [] with particular key.\n",
    "\n",
    "print(\"Before changing the value of numbers[2]\",numbers[2])\n",
    "numbers[2] = \"Changed Two\"\n",
    "print(\"After changing the value of number[2]\", numbers[2])"
   ]
  },
  {
   "cell_type": "code",
   "execution_count": 19,
   "metadata": {},
   "outputs": [
    {
     "name": "stdout",
     "output_type": "stream",
     "text": [
      "Four\n"
     ]
    }
   ],
   "source": [
    "print(numbers[4])"
   ]
  },
  {
   "cell_type": "code",
   "execution_count": 6,
   "metadata": {},
   "outputs": [
    {
     "name": "stdout",
     "output_type": "stream",
     "text": [
      "Initial dictionary : {1: 'One', 2: 'Changed Two', 3: 'Three', 4: 'Four'}\n",
      "Updated dictionary : {1: 'One', 3: 'Three', 4: 'Four'}\n"
     ]
    }
   ],
   "source": [
    "#Removing elements from dictionary\n",
    "# we use del statement to remove an element from the dictionary.\n",
    "\n",
    "print(\"Initial dictionary :\" , numbers)\n",
    "del numbers[2]\n",
    "print(\"Updated dictionary :\" , numbers)\n",
    "del numbers\n",
    "#print(numbers)"
   ]
  },
  {
   "cell_type": "markdown",
   "metadata": {},
   "source": [
    "# Python Dictionary methods\n",
    "all(),any(),len(),sorted(),clear(),keys(),values()\n",
    "\n",
    "#Dictionary Membership Test\n"
   ]
  },
  {
   "cell_type": "code",
   "execution_count": 7,
   "metadata": {},
   "outputs": [
    {
     "name": "stdout",
     "output_type": "stream",
     "text": [
      "True\n",
      "True\n",
      "False\n"
     ]
    }
   ],
   "source": [
    "squares ={1:1,3:9,5:25,7:49,9:81}\n",
    "print(1 in squares.values())\n",
    "print(2 not in squares)\n",
    "print(49 in squares)\n",
    "#membership test is only for the keys and not for the values"
   ]
  },
  {
   "cell_type": "markdown",
   "metadata": {},
   "source": [
    "## Dictionary Comprehensions\n",
    "\n",
    "Just like List Comprehensions, Dictionary Data Types also support their own version of comprehension for quick creation. It is not as commonly used as List Comprehensions, but the syntax is:"
   ]
  },
  {
   "cell_type": "code",
   "execution_count": 7,
   "metadata": {},
   "outputs": [
    {
     "data": {
      "text/plain": [
       "{0: 0, 1: 1, 2: 4, 3: 9, 4: 16, 5: 25, 6: 36, 7: 49, 8: 64, 9: 81}"
      ]
     },
     "execution_count": 7,
     "metadata": {},
     "output_type": "execute_result"
    }
   ],
   "source": [
    "{x:x**2 for x in range(10)}"
   ]
  },
  {
   "cell_type": "markdown",
   "metadata": {},
   "source": [
    "One of the reasons it is not as common is the difficulty in structuring key names that are not based off the values."
   ]
  },
  {
   "cell_type": "markdown",
   "metadata": {},
   "source": [
    "## Iteration over keys, values, and items\n",
    "Dictionaries can be iterated over using the keys(), values() and items() methods. For example:"
   ]
  },
  {
   "cell_type": "code",
   "execution_count": 9,
   "metadata": {},
   "outputs": [],
   "source": [
    "d = {'k1':1,'k2':2}"
   ]
  },
  {
   "cell_type": "code",
   "execution_count": 6,
   "metadata": {},
   "outputs": [
    {
     "name": "stdout",
     "output_type": "stream",
     "text": [
      "dict_values([1, 2])\n",
      "k1\n",
      "k2\n"
     ]
    }
   ],
   "source": [
    "print(d.values())\n",
    "for k in d:\n",
    "    print(k)"
   ]
  },
  {
   "cell_type": "code",
   "execution_count": 7,
   "metadata": {},
   "outputs": [
    {
     "name": "stdout",
     "output_type": "stream",
     "text": [
      "1\n",
      "2\n"
     ]
    }
   ],
   "source": [
    "for v in d.values():\n",
    "    print(v)"
   ]
  },
  {
   "cell_type": "code",
   "execution_count": 10,
   "metadata": {},
   "outputs": [
    {
     "name": "stdout",
     "output_type": "stream",
     "text": [
      "('k1', 1)\n",
      "('k2', 2)\n"
     ]
    }
   ],
   "source": [
    "for item in d.items():\n",
    "    print(item)"
   ]
  },
  {
   "cell_type": "markdown",
   "metadata": {},
   "source": [
    "# Viewing keys, values and items\n",
    "By themselves the keys(), values() and items() methods return a dictionary *view object*. This is not a separate list of items. Instead, the view is always tied to the original dictionary."
   ]
  },
  {
   "cell_type": "code",
   "execution_count": 10,
   "metadata": {},
   "outputs": [
    {
     "data": {
      "text/plain": [
       "dict_keys(['k1', 'k2'])"
      ]
     },
     "execution_count": 10,
     "metadata": {},
     "output_type": "execute_result"
    }
   ],
   "source": [
    "key_view = d.keys()\n",
    "\n",
    "key_view"
   ]
  },
  {
   "cell_type": "code",
   "execution_count": 12,
   "metadata": {},
   "outputs": [
    {
     "data": {
      "text/plain": [
       "{'k1': 1, 'k2': 2, 'k3': 3}"
      ]
     },
     "execution_count": 12,
     "metadata": {},
     "output_type": "execute_result"
    }
   ],
   "source": [
    "d['k3'] = 3\n",
    "\n",
    "d"
   ]
  },
  {
   "cell_type": "code",
   "execution_count": 14,
   "metadata": {},
   "outputs": [
    {
     "data": {
      "text/plain": [
       "dict_keys(['k1', 'k2', 'k3'])"
      ]
     },
     "execution_count": 14,
     "metadata": {},
     "output_type": "execute_result"
    }
   ],
   "source": [
    "key_view"
   ]
  },
  {
   "cell_type": "code",
   "execution_count": 15,
   "metadata": {},
   "outputs": [
    {
     "name": "stdout",
     "output_type": "stream",
     "text": [
      "1\n",
      "461168601842738689\n",
      "-5010015904473927614\n",
      "-3550055125485641917\n"
     ]
    }
   ],
   "source": [
    "# All the keys that is used inside a dictionary has to be unique. And thay must be immutable.\n",
    "print(hash(1))\n",
    "print(hash(1.2))\n",
    "print(hash(\"dataquest\"))\n",
    "print(hash((1,2)))"
   ]
  },
  {
   "cell_type": "code",
   "execution_count": 11,
   "metadata": {},
   "outputs": [
    {
     "name": "stdout",
     "output_type": "stream",
     "text": [
      "Result dictionary : {'Ten': 10, 'Twenty': 20, 'Thirty': 30}\n",
      "Using loop updated dictionary is : {'Ten': 10, 'Twenty': 20, 'Thirty': 30}\n"
     ]
    }
   ],
   "source": [
    "#wap to convert two list into dictionary\n",
    "keys = ['Ten','Twenty','Thirty']\n",
    "values = [10,20,30]\n",
    "#use zip function to merge two list\n",
    "res_dict = dict(zip(keys,values))\n",
    "print(\"Result dictionary :\",res_dict)\n",
    "\n",
    "#using loop and update method of dictionary\n",
    "res_dict = dict()\n",
    "for i in range(len(keys)):\n",
    "    res_dict.update({keys[i]: values[i]})\n",
    "\n",
    "print(\"Using loop updated dictionary is :\",res_dict)"
   ]
  },
  {
   "cell_type": "code",
   "execution_count": 12,
   "metadata": {},
   "outputs": [
    {
     "name": "stdout",
     "output_type": "stream",
     "text": [
      "Combined dict: {'Ten': 10, 'Twenty': 20, 'Thirty': 30, 'Fourty': 40}\n",
      "Using update method: {'Ten': 10, 'Twenty': 20, 'Thirty': 30, 'Fourty': 40}\n"
     ]
    }
   ],
   "source": [
    "#wap to merge two dictionaries into one\n",
    "dict1={'Ten':10,'Twenty':20}\n",
    "dict2={'Thirty':30,'Fourty':40}\n",
    "#Expected output = {'Ten':10,'Twenty':20,'Thirty':30,'Fourty':40}\n",
    "\n",
    "#solution for version 3.5+\n",
    "dict3 = {**dict1,**dict2}\n",
    "print(\"Combined dict:\",dict3)\n",
    "\n",
    "# older version\n",
    "dict3 = dict1.copy()\n",
    "dict3.update(dict2)\n",
    "print(\"Using update method:\",dict3)"
   ]
  },
  {
   "cell_type": "code",
   "execution_count": 16,
   "metadata": {},
   "outputs": [
    {
     "name": "stdout",
     "output_type": "stream",
     "text": [
      "80\n"
     ]
    }
   ],
   "source": [
    "#wap to print the value of key 'history' from the below dict\n",
    "\n",
    "sampleDict = {\n",
    "    \"class\":{\n",
    "        \"student\":{\n",
    "            \"name\":\"Mike\",\n",
    "            \"marks\":{\n",
    "                \"physics\":70,\n",
    "                \"history\":80\n",
    "            }\n",
    "        }\n",
    "    }\n",
    "}\n",
    "\n",
    "print(sampleDict['class']['student']['marks']['history'])"
   ]
  },
  {
   "cell_type": "code",
   "execution_count": 17,
   "metadata": {},
   "outputs": [
    {
     "name": "stdout",
     "output_type": "stream",
     "text": [
      "{'kelly': {'designation': 'Developer', 'salary': 80000}, 'Emma': {'designation': 'Developer', 'salary': 80000}}\n",
      "{'designation': 'Developer', 'salary': 80000}\n"
     ]
    }
   ],
   "source": [
    "#wap to initialize dictionary with default values\n",
    "employess = ['kelly','Emma']\n",
    "defaults = {'designation':'Developer','salary':80000}\n",
    "\n",
    "#using fromkeys() method of dictionary\n",
    "\n",
    "res = dict.fromkeys(employess,defaults)\n",
    "print(res)\n",
    "print(res['kelly'])"
   ]
  },
  {
   "cell_type": "code",
   "execution_count": 20,
   "metadata": {},
   "outputs": [
    {
     "name": "stdout",
     "output_type": "stream",
     "text": [
      "New Dictionary is : {'name': 'kelly', 'salary': 8000}\n",
      "Second method Resultant Dictionary:  {'name': 'kelly', 'salary': 8000}\n"
     ]
    }
   ],
   "source": [
    "#wap to create a dictionary by extracting the keys from given dictionary\n",
    "sample_dict = {\n",
    "    \"name\":\"kelly\",\n",
    "    \"age\":25,\n",
    "    \"salary\":8000,\n",
    "    \"city\":\"New York\"\n",
    "}\n",
    "keys = [\"name\",\"salary\"]\n",
    "#Expected output : {\"name\":\"kelly\",\"salary\":8000}\n",
    "newDict = {k:sample_dict[k] for k in keys}\n",
    "print(\"New Dictionary is :\",newDict)\n",
    "\n",
    "#Second way of doing this\n",
    "\n",
    "res = dict()\n",
    "for k in keys:\n",
    "    res.update({k:sample_dict[k]})\n",
    "\n",
    "print(\"Second method Resultant Dictionary: \",res)"
   ]
  },
  {
   "cell_type": "code",
   "execution_count": 21,
   "metadata": {},
   "outputs": [
    {
     "name": "stdout",
     "output_type": "stream",
     "text": [
      "After deletion : {'name': 'kelly', 'salary': 8000}\n",
      "{'name': 'kelly', 'salary': 8000}\n"
     ]
    }
   ],
   "source": [
    "#wap to delete a list of keys from a dictionary\n",
    "sample_dict = {\n",
    "    \"name\":\"kelly\",\n",
    "    \"age\":25,\n",
    "    \"salary\":8000,\n",
    "    \"city\":\"New York\"\n",
    "}\n",
    "#keys to remove\n",
    "keys = [\"age\",\"city\"]\n",
    "\n",
    "for k in keys:\n",
    "    sample_dict.pop(k)\n",
    "\n",
    "print(\"After deletion :\",sample_dict)\n",
    "\n",
    "#Second way of doing this using comprehension\n",
    "\n",
    "result = {k:sample_dict[k] for k in sample_dict.keys()-keys}\n",
    "\n",
    "print(result)\n"
   ]
  },
  {
   "cell_type": "code",
   "execution_count": 22,
   "metadata": {},
   "outputs": [
    {
     "name": "stdout",
     "output_type": "stream",
     "text": [
      "Not present in the dict\n"
     ]
    }
   ],
   "source": [
    "#wap to check if a value exists in a dictionary\n",
    "\n",
    "sample_dict = {'a':100,'b':200,'c':300}\n",
    "\n",
    "if 201 in sample_dict.values():\n",
    "    print(\"200 is present in the dict\")\n",
    "else:\n",
    "    print(\"Not present in the dict\")"
   ]
  },
  {
   "cell_type": "code",
   "execution_count": 23,
   "metadata": {},
   "outputs": [
    {
     "name": "stdout",
     "output_type": "stream",
     "text": [
      "Renamed dictionary is : {'name': 'kelly', 'age': 25, 'salary': 8000, 'location': 'New York'}\n"
     ]
    }
   ],
   "source": [
    "#wap to rename key of a dictionary\n",
    "sample_dict = {\n",
    "    \"name\":\"kelly\",\n",
    "    \"age\":25,\n",
    "    \"salary\":8000,\n",
    "    \"city\":\"New York\"\n",
    "}\n",
    "\n",
    "#rename city--> location\n",
    "sample_dict['location'] = sample_dict.pop('city')\n",
    "print(\"Renamed dictionary is :\",sample_dict)"
   ]
  },
  {
   "cell_type": "code",
   "execution_count": 24,
   "metadata": {},
   "outputs": [
    {
     "name": "stdout",
     "output_type": "stream",
     "text": [
      "maths\n"
     ]
    }
   ],
   "source": [
    "#wap to get the key of minimum value from the given dictionary\n",
    "sample_dict={\n",
    "    'physics':82,\n",
    "    'maths':5,\n",
    "    'history':15\n",
    "}\n",
    "\n",
    "print(min(sample_dict,key=sample_dict.get))"
   ]
  },
  {
   "cell_type": "code",
   "execution_count": 25,
   "metadata": {},
   "outputs": [
    {
     "name": "stdout",
     "output_type": "stream",
     "text": [
      "Updated salary is : {'emp1': {'name': 'Jhon', 'salary': 7500}, 'emp2': {'name': 'Emma', 'salary': 8000}, 'emp3': {'name': 'Brad', 'salary': 8500}}\n"
     ]
    }
   ],
   "source": [
    "#Wap to change the value of key in a nested dictionary\n",
    "sample_dict = {\n",
    "    'emp1':{'name':'Jhon','salary':7500},\n",
    "    'emp2':{'name':'Emma','salary':8000},\n",
    "    'emp3':{'name':'Brad','salary':500},\n",
    "}\n",
    "\n",
    "#expected ouptut : sample_dict = {\n",
    " #   'emp1':{'name':'Jhon','salary':7500},\n",
    "#  'emp2':{'name':'Emma','salary':8000},\n",
    " #   'emp3':{'name':'Brad','salary':8500},\n",
    "#}\n",
    "sample_dict['emp3']['salary'] = 8500\n",
    "print(\"Updated salary is :\", sample_dict)"
   ]
  },
  {
   "cell_type": "code",
   "execution_count": 26,
   "metadata": {},
   "outputs": [
    {
     "name": "stdout",
     "output_type": "stream",
     "text": [
      "Original Dictionary : {'key4': 122, 'key8': 93, 'key9': 121}\n",
      "In ascending by value : [('key8', 93), ('key9', 121), ('key4', 122)]\n",
      "In Descending by value : [('key4', 122), ('key9', 121), ('key8', 93)]\n"
     ]
    }
   ],
   "source": [
    "#wap to Sort dictionary by values(Ascending/Descending)\n",
    "import operator\n",
    "dict = {'key4':122,'key8': 93,'key9':121}\n",
    "print(\"Original Dictionary :\",dict)\n",
    "#in ascending order\n",
    "print(\"In ascending by value :\", sorted(dict.items(),key=operator.itemgetter(1)))\n",
    "#in descending order \n",
    "print(\"In Descending by value :\", sorted(dict.items(),key=operator.itemgetter(1),reverse=True))\n"
   ]
  },
  {
   "cell_type": "code",
   "execution_count": 27,
   "metadata": {},
   "outputs": [
    {
     "name": "stdout",
     "output_type": "stream",
     "text": [
      "Sum of all the values of Dictionary is :  1800\n",
      "Sum of all the values of Dictionary is : 1800\n"
     ]
    }
   ],
   "source": [
    "#wap to sum all the values present inside dictionary\n",
    "\n",
    "dict = {'key1':500,'key2':600,'key3':700}\n",
    "res = []\n",
    "\n",
    "for x in dict.values():\n",
    "    res.append(x)\n",
    "    \n",
    "print(\"Sum of all the values of Dictionary is : \",sum(res))\n",
    "\n",
    "#Second way of doing it\n",
    "\n",
    "print(\"Sum of all the values of Dictionary is :\" , sum(list(dict.values())))\n",
    "                                                                                                                                                                                  "
   ]
  },
  {
   "cell_type": "code",
   "execution_count": 28,
   "metadata": {},
   "outputs": [
    {
     "name": "stdout",
     "output_type": "stream",
     "text": [
      "Minimum value from the dictionary is : 1000\n",
      "Maximum value from the dictionary is : 7000\n"
     ]
    }
   ],
   "source": [
    "#wap to find minimum and maximum value of dictionary\n",
    "dict = {'k1':2000,'k2':6000,'k3':1000,'k4':7000}\n",
    "\n",
    "values = dict.values()\n",
    "\n",
    "print(\"Minimum value from the dictionary is :\",min(values))\n",
    "print(\"Maximum value from the dictionary is :\",max(values))"
   ]
  },
  {
   "cell_type": "code",
   "execution_count": 29,
   "metadata": {},
   "outputs": [
    {
     "name": "stdout",
     "output_type": "stream",
     "text": [
      "Is dictioanry empty ? :True\n"
     ]
    }
   ],
   "source": [
    "# wap to check if a dictionary is empty or not\n",
    "\n",
    "dict1 ={}\n",
    "\n",
    "#using boolean if dictionary is empty\n",
    "result = not bool(dict1)\n",
    "\n",
    "print(\"Is dictioanry empty ? :\" + str(result))"
   ]
  },
  {
   "cell_type": "code",
   "execution_count": 31,
   "metadata": {},
   "outputs": [
    {
     "name": "stdout",
     "output_type": "stream",
     "text": [
      "Enter the limit 500\n",
      "Created dictionary is : {1: 1, 2: 4, 3: 9, 4: 16, 5: 25, 6: 36, 7: 49, 8: 64, 9: 81, 10: 100, 11: 121, 12: 144, 13: 169, 14: 196, 15: 225, 16: 256, 17: 289, 18: 324, 19: 361, 20: 400, 21: 441, 22: 484, 23: 529, 24: 576, 25: 625, 26: 676, 27: 729, 28: 784, 29: 841, 30: 900, 31: 961, 32: 1024, 33: 1089, 34: 1156, 35: 1225, 36: 1296, 37: 1369, 38: 1444, 39: 1521, 40: 1600, 41: 1681, 42: 1764, 43: 1849, 44: 1936, 45: 2025, 46: 2116, 47: 2209, 48: 2304, 49: 2401, 50: 2500, 51: 2601, 52: 2704, 53: 2809, 54: 2916, 55: 3025, 56: 3136, 57: 3249, 58: 3364, 59: 3481, 60: 3600, 61: 3721, 62: 3844, 63: 3969, 64: 4096, 65: 4225, 66: 4356, 67: 4489, 68: 4624, 69: 4761, 70: 4900, 71: 5041, 72: 5184, 73: 5329, 74: 5476, 75: 5625, 76: 5776, 77: 5929, 78: 6084, 79: 6241, 80: 6400, 81: 6561, 82: 6724, 83: 6889, 84: 7056, 85: 7225, 86: 7396, 87: 7569, 88: 7744, 89: 7921, 90: 8100, 91: 8281, 92: 8464, 93: 8649, 94: 8836, 95: 9025, 96: 9216, 97: 9409, 98: 9604, 99: 9801, 100: 10000, 101: 10201, 102: 10404, 103: 10609, 104: 10816, 105: 11025, 106: 11236, 107: 11449, 108: 11664, 109: 11881, 110: 12100, 111: 12321, 112: 12544, 113: 12769, 114: 12996, 115: 13225, 116: 13456, 117: 13689, 118: 13924, 119: 14161, 120: 14400, 121: 14641, 122: 14884, 123: 15129, 124: 15376, 125: 15625, 126: 15876, 127: 16129, 128: 16384, 129: 16641, 130: 16900, 131: 17161, 132: 17424, 133: 17689, 134: 17956, 135: 18225, 136: 18496, 137: 18769, 138: 19044, 139: 19321, 140: 19600, 141: 19881, 142: 20164, 143: 20449, 144: 20736, 145: 21025, 146: 21316, 147: 21609, 148: 21904, 149: 22201, 150: 22500, 151: 22801, 152: 23104, 153: 23409, 154: 23716, 155: 24025, 156: 24336, 157: 24649, 158: 24964, 159: 25281, 160: 25600, 161: 25921, 162: 26244, 163: 26569, 164: 26896, 165: 27225, 166: 27556, 167: 27889, 168: 28224, 169: 28561, 170: 28900, 171: 29241, 172: 29584, 173: 29929, 174: 30276, 175: 30625, 176: 30976, 177: 31329, 178: 31684, 179: 32041, 180: 32400, 181: 32761, 182: 33124, 183: 33489, 184: 33856, 185: 34225, 186: 34596, 187: 34969, 188: 35344, 189: 35721, 190: 36100, 191: 36481, 192: 36864, 193: 37249, 194: 37636, 195: 38025, 196: 38416, 197: 38809, 198: 39204, 199: 39601, 200: 40000, 201: 40401, 202: 40804, 203: 41209, 204: 41616, 205: 42025, 206: 42436, 207: 42849, 208: 43264, 209: 43681, 210: 44100, 211: 44521, 212: 44944, 213: 45369, 214: 45796, 215: 46225, 216: 46656, 217: 47089, 218: 47524, 219: 47961, 220: 48400, 221: 48841, 222: 49284, 223: 49729, 224: 50176, 225: 50625, 226: 51076, 227: 51529, 228: 51984, 229: 52441, 230: 52900, 231: 53361, 232: 53824, 233: 54289, 234: 54756, 235: 55225, 236: 55696, 237: 56169, 238: 56644, 239: 57121, 240: 57600, 241: 58081, 242: 58564, 243: 59049, 244: 59536, 245: 60025, 246: 60516, 247: 61009, 248: 61504, 249: 62001, 250: 62500, 251: 63001, 252: 63504, 253: 64009, 254: 64516, 255: 65025, 256: 65536, 257: 66049, 258: 66564, 259: 67081, 260: 67600, 261: 68121, 262: 68644, 263: 69169, 264: 69696, 265: 70225, 266: 70756, 267: 71289, 268: 71824, 269: 72361, 270: 72900, 271: 73441, 272: 73984, 273: 74529, 274: 75076, 275: 75625, 276: 76176, 277: 76729, 278: 77284, 279: 77841, 280: 78400, 281: 78961, 282: 79524, 283: 80089, 284: 80656, 285: 81225, 286: 81796, 287: 82369, 288: 82944, 289: 83521, 290: 84100, 291: 84681, 292: 85264, 293: 85849, 294: 86436, 295: 87025, 296: 87616, 297: 88209, 298: 88804, 299: 89401, 300: 90000, 301: 90601, 302: 91204, 303: 91809, 304: 92416, 305: 93025, 306: 93636, 307: 94249, 308: 94864, 309: 95481, 310: 96100, 311: 96721, 312: 97344, 313: 97969, 314: 98596, 315: 99225, 316: 99856, 317: 100489, 318: 101124, 319: 101761, 320: 102400, 321: 103041, 322: 103684, 323: 104329, 324: 104976, 325: 105625, 326: 106276, 327: 106929, 328: 107584, 329: 108241, 330: 108900, 331: 109561, 332: 110224, 333: 110889, 334: 111556, 335: 112225, 336: 112896, 337: 113569, 338: 114244, 339: 114921, 340: 115600, 341: 116281, 342: 116964, 343: 117649, 344: 118336, 345: 119025, 346: 119716, 347: 120409, 348: 121104, 349: 121801, 350: 122500, 351: 123201, 352: 123904, 353: 124609, 354: 125316, 355: 126025, 356: 126736, 357: 127449, 358: 128164, 359: 128881, 360: 129600, 361: 130321, 362: 131044, 363: 131769, 364: 132496, 365: 133225, 366: 133956, 367: 134689, 368: 135424, 369: 136161, 370: 136900, 371: 137641, 372: 138384, 373: 139129, 374: 139876, 375: 140625, 376: 141376, 377: 142129, 378: 142884, 379: 143641, 380: 144400, 381: 145161, 382: 145924, 383: 146689, 384: 147456, 385: 148225, 386: 148996, 387: 149769, 388: 150544, 389: 151321, 390: 152100, 391: 152881, 392: 153664, 393: 154449, 394: 155236, 395: 156025, 396: 156816, 397: 157609, 398: 158404, 399: 159201, 400: 160000, 401: 160801, 402: 161604, 403: 162409, 404: 163216, 405: 164025, 406: 164836, 407: 165649, 408: 166464, 409: 167281, 410: 168100, 411: 168921, 412: 169744, 413: 170569, 414: 171396, 415: 172225, 416: 173056, 417: 173889, 418: 174724, 419: 175561, 420: 176400, 421: 177241, 422: 178084, 423: 178929, 424: 179776, 425: 180625, 426: 181476, 427: 182329, 428: 183184, 429: 184041, 430: 184900, 431: 185761, 432: 186624, 433: 187489, 434: 188356, 435: 189225, 436: 190096, 437: 190969, 438: 191844, 439: 192721, 440: 193600, 441: 194481, 442: 195364, 443: 196249, 444: 197136, 445: 198025, 446: 198916, 447: 199809, 448: 200704, 449: 201601, 450: 202500, 451: 203401, 452: 204304, 453: 205209, 454: 206116, 455: 207025, 456: 207936, 457: 208849, 458: 209764, 459: 210681, 460: 211600, 461: 212521, 462: 213444, 463: 214369, 464: 215296, 465: 216225, 466: 217156, 467: 218089, 468: 219024, 469: 219961, 470: 220900, 471: 221841, 472: 222784, 473: 223729, 474: 224676, 475: 225625, 476: 226576, 477: 227529, 478: 228484, 479: 229441, 480: 230400, 481: 231361, 482: 232324, 483: 233289, 484: 234256, 485: 235225, 486: 236196, 487: 237169, 488: 238144, 489: 239121, 490: 240100, 491: 241081, 492: 242064, 493: 243049, 494: 244036, 495: 245025, 496: 246016, 497: 247009, 498: 248004, 499: 249001, 500: 250000}\n"
     ]
    }
   ],
   "source": [
    "#wap to generate and print a dictionary that contains a number between (1,n) in the form (x,x*x)\n",
    "length =  int(input(\"Enter the limit \"))\n",
    "d={}\n",
    "\n",
    "for x in range(1,length+1):\n",
    "    d[x] = x*x\n",
    "\n",
    "print(\"Created dictionary is :\",d)"
   ]
  },
  {
   "cell_type": "markdown",
   "metadata": {},
   "source": [
    "Great! You should now feel very comfortable using the variety of methods available to you in Dictionaries!"
   ]
  },
  {
   "cell_type": "code",
   "execution_count": null,
   "metadata": {},
   "outputs": [],
   "source": []
  }
 ],
 "metadata": {
  "kernelspec": {
   "display_name": "Python 3 (ipykernel)",
   "language": "python",
   "name": "python3"
  },
  "language_info": {
   "codemirror_mode": {
    "name": "ipython",
    "version": 3
   },
   "file_extension": ".py",
   "mimetype": "text/x-python",
   "name": "python",
   "nbconvert_exporter": "python",
   "pygments_lexer": "ipython3",
   "version": "3.9.6"
  }
 },
 "nbformat": 4,
 "nbformat_minor": 1
}
