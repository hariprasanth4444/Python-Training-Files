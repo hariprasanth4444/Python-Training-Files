{
 "cells": [
  {
   "cell_type": "code",
   "execution_count": null,
   "id": "a0ffe89d",
   "metadata": {},
   "outputs": [],
   "source": [
    "#Touples in python\n",
    "#Touple is created by placing all the items inside () in separated commas."
   ]
  },
  {
   "cell_type": "code",
   "execution_count": 2,
   "id": "d634ae5b",
   "metadata": {},
   "outputs": [
    {
     "data": {
      "text/plain": [
       "('mouse', [8, 4, 6], (1, 2, 3))"
      ]
     },
     "execution_count": 2,
     "metadata": {},
     "output_type": "execute_result"
    }
   ],
   "source": [
    "#Different types of touple\n",
    "#Empty touple\n",
    "my_touple = ()\n",
    "my_touple\n",
    "#Touple having integers\n",
    "int_touple = (1,2,3)\n",
    "int_touple\n",
    "#touple with mixed datatypes\n",
    "mixed_touple = (1,\"Hello\",3.4)\n",
    "mixed_touple\n",
    "#nested touple\n",
    "nested_touple =(\"mouse\",[8,4,6],(1,2,3))\n",
    "nested_touple"
   ]
  },
  {
   "cell_type": "code",
   "execution_count": 3,
   "id": "28dc2a9b",
   "metadata": {},
   "outputs": [
    {
     "name": "stdout",
     "output_type": "stream",
     "text": [
      "<class 'str'>\n",
      "<class 'tuple'>\n"
     ]
    }
   ],
   "source": [
    "var1 = (\"Hello\")\n",
    "print(type(var1))\n",
    "var2 = (\"Hello\",)\n",
    "print(type(var2))"
   ]
  },
  {
   "cell_type": "markdown",
   "id": "62ce0540",
   "metadata": {},
   "source": [
    "# Access tuple\n",
    "#1.Indexing\n"
   ]
  },
  {
   "cell_type": "code",
   "execution_count": 4,
   "id": "015fc1a8",
   "metadata": {},
   "outputs": [
    {
     "data": {
      "text/plain": [
       "'Hello'"
      ]
     },
     "execution_count": 4,
     "metadata": {},
     "output_type": "execute_result"
    }
   ],
   "source": [
    "#Index operator = []\n",
    "tup = 12,\"Value\",\"Hello\",12.8,90\n",
    "tup[2] #accessing the 3rd value"
   ]
  },
  {
   "cell_type": "code",
   "execution_count": 5,
   "id": "4de3bb3a",
   "metadata": {},
   "outputs": [
    {
     "data": {
      "text/plain": [
       "90"
      ]
     },
     "execution_count": 5,
     "metadata": {},
     "output_type": "execute_result"
    }
   ],
   "source": [
    "#2Negative indexing\n",
    "tup[-1] #Fetch last element of tuple"
   ]
  },
  {
   "cell_type": "code",
   "execution_count": 6,
   "id": "cb286bdd",
   "metadata": {},
   "outputs": [
    {
     "data": {
      "text/plain": [
       "('Hello', 12.8, 90)"
      ]
     },
     "execution_count": 6,
     "metadata": {},
     "output_type": "execute_result"
    }
   ],
   "source": [
    "#3Slicing [:]\n",
    "tup[2:]"
   ]
  },
  {
   "cell_type": "markdown",
   "id": "44864edc",
   "metadata": {},
   "source": [
    "# Python Tuple Methods"
   ]
  },
  {
   "cell_type": "code",
   "execution_count": 7,
   "id": "0598b517",
   "metadata": {},
   "outputs": [
    {
     "data": {
      "text/plain": [
       "1"
      ]
     },
     "execution_count": 7,
     "metadata": {},
     "output_type": "execute_result"
    }
   ],
   "source": [
    "#count\n",
    "tup.count(12)"
   ]
  },
  {
   "cell_type": "code",
   "execution_count": 8,
   "id": "37d28899",
   "metadata": {},
   "outputs": [
    {
     "data": {
      "text/plain": [
       "2"
      ]
     },
     "execution_count": 8,
     "metadata": {},
     "output_type": "execute_result"
    }
   ],
   "source": [
    "#index \n",
    "tup.index(\"Hello\")"
   ]
  },
  {
   "cell_type": "code",
   "execution_count": 9,
   "id": "ae9f288f",
   "metadata": {},
   "outputs": [
    {
     "name": "stdout",
     "output_type": "stream",
     "text": [
      "12\n",
      "Value\n",
      "Hello\n",
      "12.8\n",
      "90\n"
     ]
    }
   ],
   "source": [
    "#Iterating through a tuple in python\n",
    "for val in tup:\n",
    "    print(val)"
   ]
  },
  {
   "cell_type": "code",
   "execution_count": 10,
   "id": "54f9e7f9",
   "metadata": {},
   "outputs": [
    {
     "name": "stdout",
     "output_type": "stream",
     "text": [
      "False\n"
     ]
    }
   ],
   "source": [
    "#check if a item exist in a tuple\n",
    "print(13 in tup)"
   ]
  },
  {
   "cell_type": "raw",
   "id": "daa42750",
   "metadata": {},
   "source": [
    "#Advantage of tuple over list in Pyhton\n",
    "1.Generally tuple used for heterogeneous data types and list for homogeneous data type\n",
    "2.Since tuple is immutable, iterating through tuple is faster than list\n",
    "3.Touples that contains immutable elements can be used as key for dictionary but with list this is not possible\n",
    "4.if you have date that does not change, implementing it as tuple will guarantee that it remains write protected."
   ]
  },
  {
   "cell_type": "code",
   "execution_count": 11,
   "id": "a40b99af",
   "metadata": {},
   "outputs": [
    {
     "name": "stdout",
     "output_type": "stream",
     "text": [
      "The original tuple is : (7, 5, 9, 1, 10, 3)\n",
      "The sum of all tuple elements are : 35\n"
     ]
    }
   ],
   "source": [
    "#Wap to print sum of tuple elements\n",
    "test_tup = (7,5,9,1,10,3)\n",
    "print(\"The original tuple is : \" + str(test_tup))\n",
    "res = sum(list(test_tup))\n",
    "print(\"The sum of all tuple elements are : \" + str(res))"
   ]
  },
  {
   "cell_type": "code",
   "execution_count": 12,
   "id": "8667de23",
   "metadata": {},
   "outputs": [
    {
     "name": "stdout",
     "output_type": "stream",
     "text": [
      "Input comma separated numbers : 12,34,56,7,88,90,0\n",
      "List :  ['12', '34', '56', '7', '88', '90', '0']\n",
      "Tuple : ('12', '34', '56', '7', '88', '90', '0')\n"
     ]
    }
   ],
   "source": [
    "#Wap which accepts comma separated value from user and generate a list and tuple \n",
    "values = input(\"Input comma separated numbers : \")\n",
    "list = values.split(\",\")\n",
    "tuple1 = tuple(list)\n",
    "print(\"List : \", list)\n",
    "print(\"Tuple :\", tuple1)"
   ]
  },
  {
   "cell_type": "code",
   "execution_count": 13,
   "id": "104d4e7a",
   "metadata": {},
   "outputs": [
    {
     "name": "stdout",
     "output_type": "stream",
     "text": [
      "Initial list : [(1, 4), (9, 4, 2), (4, 5, 6, 8), (2, 6, 8), (3, 0, 1), (4, 4, 1), (1,)]\n",
      "List of tuples after removing tuple of length k : [(1, 4), (4, 5, 6, 8), (1,)]\n"
     ]
    }
   ],
   "source": [
    "#wap to remove all tuples of length K\n",
    "tuple_list = [(1,4),(9,4,2),(4,5,6,8),(2,6,8),(3,0,1),(4,4,1),(1,)]\n",
    "k=3\n",
    "print(\"Initial list : \" + str(tuple_list))\n",
    "filteredList = [tup for tup in tuple_list if(len(tup)!=k)]\n",
    "print(\"List of tuples after removing tuple of length k : \" + str(filteredList))"
   ]
  },
  {
   "cell_type": "code",
   "execution_count": 14,
   "id": "6744c951",
   "metadata": {},
   "outputs": [
    {
     "name": "stdout",
     "output_type": "stream",
     "text": [
      "The list is : [(4, 62), (2, 65), (5, 9), (0, 1)]\n",
      " Unique digits of the set are : {0, 1, 2, 4, 5, 6, 9}\n"
     ]
    }
   ],
   "source": [
    "#Wap to Extract digits from tuple list\n",
    "from itertools import chain\n",
    "list = [(4,62),(2,65),(5,9),(0,1)]\n",
    "print(\"The list is : \" + str(list))\n",
    "\n",
    "valmap = map(lambda ele: str(ele),chain.from_iterable(list))\n",
    "uniqueDigists = set()\n",
    "for values in valmap:\n",
    "    for digits in values:\n",
    "        uniqueDigists.add(int(digits))\n",
    "\n",
    "print(\" Unique digits of the set are : \" + str(uniqueDigists))"
   ]
  },
  {
   "cell_type": "code",
   "execution_count": 15,
   "id": "8826e613",
   "metadata": {},
   "outputs": [
    {
     "name": "stdout",
     "output_type": "stream",
     "text": [
      "(0, 1, 2, 3, 'python', 'Geek')\n"
     ]
    }
   ],
   "source": [
    "#Concatenate a tuple\n",
    "tuple1 = (0,1,2,3)\n",
    "tuple2 = ('python','Geek')\n",
    "\n",
    "print(tuple1 + tuple2)"
   ]
  },
  {
   "cell_type": "code",
   "execution_count": 17,
   "id": "9a6de651",
   "metadata": {},
   "outputs": [
    {
     "name": "stdout",
     "output_type": "stream",
     "text": [
      "((0, 1, 2, 3), ('python', 'Geek'))\n"
     ]
    }
   ],
   "source": [
    "#Nesting of Tuples\n",
    "tuple1 = (0,1,2,3)\n",
    "tuple2 = ('python','Geek')\n",
    "\n",
    "tuple3 = (tuple1,tuple2)\n",
    "print(tuple3)"
   ]
  },
  {
   "cell_type": "code",
   "execution_count": 18,
   "id": "d869cfc2",
   "metadata": {},
   "outputs": [
    {
     "name": "stdout",
     "output_type": "stream",
     "text": [
      "('python', 'python', 'python')\n"
     ]
    }
   ],
   "source": [
    "#Repeatition in Tuples\n",
    "tup3 = ('python',)*3\n",
    "print(tup3)"
   ]
  },
  {
   "cell_type": "code",
   "execution_count": 19,
   "id": "2a972d9b",
   "metadata": {},
   "outputs": [
    {
     "ename": "NameError",
     "evalue": "name 'tup' is not defined",
     "output_type": "error",
     "traceback": [
      "\u001b[1;31m---------------------------------------------------------------------------\u001b[0m",
      "\u001b[1;31mNameError\u001b[0m                                 Traceback (most recent call last)",
      "Cell \u001b[1;32mIn[19], line 4\u001b[0m\n\u001b[0;32m      2\u001b[0m tup \u001b[38;5;241m=\u001b[39m (\u001b[38;5;241m12\u001b[39m,\u001b[38;5;241m3\u001b[39m,\u001b[38;5;241m4\u001b[39m,\u001b[38;5;241m5\u001b[39m)\n\u001b[0;32m      3\u001b[0m \u001b[38;5;28;01mdel\u001b[39;00m tup\n\u001b[1;32m----> 4\u001b[0m \u001b[38;5;28mprint\u001b[39m(\u001b[43mtup\u001b[49m)\n",
      "\u001b[1;31mNameError\u001b[0m: name 'tup' is not defined"
     ]
    }
   ],
   "source": [
    "#Deleting a tuple\n",
    "tup = (12,3,4,5)\n",
    "del tup\n",
    "print(tup)"
   ]
  },
  {
   "cell_type": "code",
   "execution_count": 20,
   "id": "6296f178",
   "metadata": {},
   "outputs": [
    {
     "name": "stdout",
     "output_type": "stream",
     "text": [
      "(0, 1, 2, 3)\n"
     ]
    }
   ],
   "source": [
    "#Converting a list to Tuple\n",
    "list1= [0,1,2,3]\n",
    "x =tuple(list1)\n",
    "print(x)"
   ]
  },
  {
   "cell_type": "code",
   "execution_count": 25,
   "id": "1aef3128",
   "metadata": {},
   "outputs": [
    {
     "name": "stdout",
     "output_type": "stream",
     "text": [
      "Original List : [('GFG', 'IS', 'BEST'), ('GFg', 'AVERAGE'), ('GFg',), ('GFG', 'Cs')]\n",
      "Filtered tuple :  [('GFG', 'IS', 'BEST')]\n"
     ]
    }
   ],
   "source": [
    "test_list = [('GFG','IS','BEST'),('GFg','AVERAGE'),(\"GFg\",),(\"GFG\",\"Cs\")]\n",
    "\n",
    "#method1: USing loop\n",
    "print(\"Original List : \" + str(test_list))\n",
    "res_list= []\n",
    "for sub in test_list:\n",
    "    res= True\n",
    "    for ele in sub:\n",
    "        if not ele.isupper():\n",
    "            res=False\n",
    "            break\n",
    "    if res:\n",
    "        res_list.append(sub)\n",
    "print(\"Filtered tuple : \", res_list)\n",
    "\n",
    "#Time Complexity = O(n^2)\n",
    "#space complexity = O(n)"
   ]
  },
  {
   "cell_type": "code",
   "execution_count": 26,
   "id": "a463aa3e",
   "metadata": {},
   "outputs": [
    {
     "name": "stdout",
     "output_type": "stream",
     "text": [
      "Original List : [('GFG', 'IS', 'BEST'), ('GFg', 'AVERAGE'), ('GFg',), ('GFG', 'Cs')]\n",
      "Filtered tuple :  [('GFG', 'IS', 'BEST')]\n"
     ]
    }
   ],
   "source": [
    "#method 2 : Using list comphrehension + all() + isupper()\n",
    "print(\"Original List : \" + str(test_list))\n",
    "\n",
    "res = [sub for sub in test_list if all(ele.isupper() for ele in sub)]\n",
    "print(\"Filtered tuple : \", res)\n",
    "\n",
    "#Time Complexity = O(n*m)\n",
    "#space complexity = O(k) where k is number of tuples that satisfy the condition"
   ]
  },
  {
   "cell_type": "code",
   "execution_count": 32,
   "id": "ed32cf09",
   "metadata": {},
   "outputs": [
    {
     "name": "stdout",
     "output_type": "stream",
     "text": [
      "Original List : [('GFG', 'IS', 'BEST'), ('GFg', 'AVERAGE'), ('GFg',), ('GFG', 'Cs')]\n",
      "Filtered tuple :  ('GFG', 'IS', 'BEST')\n"
     ]
    }
   ],
   "source": [
    "#method 3\n",
    "\n",
    "print(\"Original List : \" + str(test_list))\n",
    "\n",
    "res = (filter(lambda x: all(map(str.isupper,x)),test_list))\n",
    "\n",
    "for x in res:\n",
    "    print(\"Filtered tuple : \", x)\n"
   ]
  },
  {
   "cell_type": "code",
   "execution_count": null,
   "id": "8c47750a",
   "metadata": {},
   "outputs": [],
   "source": []
  }
 ],
 "metadata": {
  "kernelspec": {
   "display_name": "Python 3 (ipykernel)",
   "language": "python",
   "name": "python3"
  },
  "language_info": {
   "codemirror_mode": {
    "name": "ipython",
    "version": 3
   },
   "file_extension": ".py",
   "mimetype": "text/x-python",
   "name": "python",
   "nbconvert_exporter": "python",
   "pygments_lexer": "ipython3",
   "version": "3.9.6"
  }
 },
 "nbformat": 4,
 "nbformat_minor": 5
}
