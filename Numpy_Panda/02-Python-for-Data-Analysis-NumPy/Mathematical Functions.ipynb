{
 "cells": [
  {
   "cell_type": "markdown",
   "id": "32cfdc50",
   "metadata": {},
   "source": [
    "# Trignometric Functions\n",
    "\n",
    "numpy provides the ufuncs sin(),cos() and tan()that takes values in radians and produces the corresponding sin, cos and tan values."
   ]
  },
  {
   "cell_type": "code",
   "execution_count": 1,
   "id": "003404a4",
   "metadata": {},
   "outputs": [
    {
     "name": "stdout",
     "output_type": "stream",
     "text": [
      "1.0\n"
     ]
    },
    {
     "data": {
      "text/plain": [
       "array([1.        , 0.8660254 , 0.70710678, 0.5       ])"
      ]
     },
     "execution_count": 1,
     "metadata": {},
     "output_type": "execute_result"
    }
   ],
   "source": [
    "import numpy as np\n",
    "x= np.sin(np.pi/2)\n",
    "print(x)\n",
    "arr = np.array([np.pi/2,np.pi/3,np.pi/4,np.pi/6])  #90 60 45 30\n",
    "x= np.sin(arr)\n",
    "x"
   ]
  },
  {
   "cell_type": "code",
   "execution_count": 2,
   "id": "175575fa",
   "metadata": {},
   "outputs": [
    {
     "data": {
      "text/plain": [
       "array([0.02741557, 0.01827705, 0.01370778, 0.00913852])"
      ]
     },
     "execution_count": 2,
     "metadata": {},
     "output_type": "execute_result"
    }
   ],
   "source": [
    "arr = np.array([np.pi/2,np.pi/3,np.pi/4,np.pi/6])\n",
    "x= np.deg2rad(arr)\n",
    "x"
   ]
  },
  {
   "cell_type": "code",
   "execution_count": 3,
   "id": "99eddc0c",
   "metadata": {},
   "outputs": [
    {
     "data": {
      "text/plain": [
       "array([ 5156.62015618, 10313.24031235, 15469.86046853, 20626.48062471])"
      ]
     },
     "execution_count": 3,
     "metadata": {},
     "output_type": "execute_result"
    }
   ],
   "source": [
    "arr = np.array([90,180,270,360])\n",
    "x= np.rad2deg(arr)\n",
    "x"
   ]
  },
  {
   "cell_type": "markdown",
   "id": "24d1d312",
   "metadata": {},
   "source": [
    "**Finding Angles**\n",
    "finding angles from values of sin cos tan . Inverse of sin cos tan\n",
    "arcsin() arccos() arctan()"
   ]
  },
  {
   "cell_type": "code",
   "execution_count": 5,
   "id": "0d90bda1",
   "metadata": {},
   "outputs": [
    {
     "data": {
      "text/plain": [
       "30.000000000000004"
      ]
     },
     "execution_count": 5,
     "metadata": {},
     "output_type": "execute_result"
    }
   ],
   "source": [
    "x= np.arcsin(0.5)\n",
    "x\n",
    "np.degrees(x)"
   ]
  },
  {
   "cell_type": "markdown",
   "id": "ddeff9a5",
   "metadata": {},
   "source": [
    "# Functions for Rounding\n",
    "\n",
    "**numpy.around()**\n",
    "This the function that returns the value rounded to the desired precision.The functions takes the following params\n",
    "\n",
    "<Code> numpy.around(a,decimals) </Code>\n",
    "  where a - Input data\n",
    "        decimals - The number of decimal to round to default is 0"
   ]
  },
  {
   "cell_type": "code",
   "execution_count": 3,
   "id": "f3cf977a",
   "metadata": {},
   "outputs": [
    {
     "name": "stdout",
     "output_type": "stream",
     "text": [
      "Original array is\n",
      "[  1.      5.55  123.      0.567  25.532]\n",
      "\n",
      "\n",
      "After Rounding:\n",
      "[  1.   6. 123.   1.  26.]\n",
      "[  1.    5.6 123.    0.6  25.5]\n",
      "[  1.     5.55 123.     0.57  25.53]\n"
     ]
    }
   ],
   "source": [
    "a= np.array([1.0,5.55,123,0.567,25.532])\n",
    "\n",
    "print('Original array is')\n",
    "print(a)\n",
    "print('\\n')\n",
    "\n",
    "print('After Rounding:')\n",
    "print(np.around(a))\n",
    "print(np.around(a,decimals=1))\n",
    "print(np.around(a,decimals=2))"
   ]
  },
  {
   "cell_type": "markdown",
   "id": "e11a0ced",
   "metadata": {},
   "source": [
    "**numpy.floor()**\n",
    "This functions returns the largest integer not greater than the input paramter. The floor of the scalar x is the largest integer i such that i<=x.\n",
    "\n",
    "Note:- In python flooring is always rounded away from 0."
   ]
  },
  {
   "cell_type": "code",
   "execution_count": 7,
   "id": "36346655",
   "metadata": {},
   "outputs": [
    {
     "name": "stdout",
     "output_type": "stream",
     "text": [
      "the Given array is :\n",
      "[-1.7  1.5 -0.2  0.6 10. ]\n",
      "\n",
      "\n",
      "the modified array is :\n",
      "[-2.  1. -1.  0. 10.]\n"
     ]
    }
   ],
   "source": [
    "a= np.array([-1.7,1.5,-0.2,0.6,10])\n",
    "\n",
    "print('the Given array is :')\n",
    "print(a)\n",
    "print('\\n')\n",
    "\n",
    "print('the modified array is :')\n",
    "print(np.floor(a))"
   ]
  },
  {
   "cell_type": "markdown",
   "id": "6f9eb529",
   "metadata": {},
   "source": [
    "**numpy.ceil()**\n",
    "The ceil of the scalar x is the smallest integer i such that i>=x"
   ]
  },
  {
   "cell_type": "code",
   "execution_count": 13,
   "id": "7b262c56",
   "metadata": {},
   "outputs": [
    {
     "name": "stdout",
     "output_type": "stream",
     "text": [
      "[-1.  2. -0.  1. 10.]\n"
     ]
    }
   ],
   "source": [
    "print(np.ceil(a))"
   ]
  },
  {
   "cell_type": "code",
   "execution_count": null,
   "id": "1ca06ce6",
   "metadata": {},
   "outputs": [],
   "source": []
  }
 ],
 "metadata": {
  "kernelspec": {
   "display_name": "Python 3 (ipykernel)",
   "language": "python",
   "name": "python3"
  },
  "language_info": {
   "codemirror_mode": {
    "name": "ipython",
    "version": 3
   },
   "file_extension": ".py",
   "mimetype": "text/x-python",
   "name": "python",
   "nbconvert_exporter": "python",
   "pygments_lexer": "ipython3",
   "version": "3.9.6"
  }
 },
 "nbformat": 4,
 "nbformat_minor": 5
}
