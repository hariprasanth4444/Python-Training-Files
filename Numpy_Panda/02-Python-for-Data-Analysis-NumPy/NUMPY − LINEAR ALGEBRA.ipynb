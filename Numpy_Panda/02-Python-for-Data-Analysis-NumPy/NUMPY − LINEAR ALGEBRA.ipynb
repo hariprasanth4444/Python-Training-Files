{
 "cells": [
  {
   "cell_type": "markdown",
   "id": "222d2a1a",
   "metadata": {},
   "source": [
    "NumPy package contains numpy.linalg module that provides all the functionality required for linear algebra. Some of the important functions in this module are described in the following table.\n",
    "\n",
    "Sr.No.\tFunction & Description\n",
    "\n",
    "1\tdot\n",
    "    Dot product of the two arrays\n",
    "\n",
    "2\tvdot\n",
    "    Dot product of the two vectors\n",
    "\n",
    "3\tinner\n",
    "   Inner product of the two arrays\n",
    "\n",
    "4\tmatmul\n",
    "   Matrix product of the two arrays\n",
    "\n",
    "5\tdeterminant\n",
    "Computes the determinant of the array\n",
    "\n",
    "6\tsolve\n",
    "Solves the linear matrix equation\n",
    "\n",
    "7\tinv\n",
    "Finds the multiplicative inverse of the matrix\n",
    "\n"
   ]
  },
  {
   "cell_type": "code",
   "execution_count": 2,
   "id": "4195d9ed",
   "metadata": {},
   "outputs": [
    {
     "name": "stdout",
     "output_type": "stream",
     "text": [
      "(45+25j)\n",
      "(25+45j)\n"
     ]
    }
   ],
   "source": [
    "import numpy as np\n",
    "a=7+ 2j   #=> (7+2j).(5+5j) = 7*5 + 2j*5j + 7.5j+2j*5\n",
    "b=5 + 5j\n",
    "print(np.vdot(a,b))\n",
    "print(np.inner(a,b))"
   ]
  },
  {
   "cell_type": "code",
   "execution_count": 3,
   "id": "50fe4c8b",
   "metadata": {},
   "outputs": [
    {
     "name": "stdout",
     "output_type": "stream",
     "text": [
      "[[5 4]\n",
      " [9 6]]\n"
     ]
    }
   ],
   "source": [
    "a=[[2,1],[0,3]]  #2,1 = >               2.1 + 1.3  2.1+ 1.2   5 4\n",
    "                 #0,3 =>                0.1 + 3.3   0.1+3.2   9 6\n",
    "b=[[1,1],[3,2]] # 1,1 => 1+1j\n",
    "                 #3,2 => 3+2j\n",
    "print(np.dot(a,b))"
   ]
  },
  {
   "cell_type": "code",
   "execution_count": 4,
   "id": "5851bea2",
   "metadata": {},
   "outputs": [
    {
     "name": "stdout",
     "output_type": "stream",
     "text": [
      "[[1 5 3]\n",
      " [4 6 6]\n",
      " [3 8 9]]\n",
      "[[1 5 3 4]\n",
      " [4 5 7 8]\n",
      " [7 8 9 3]]\n"
     ]
    },
    {
     "data": {
      "text/plain": [
       "array([[ 42,  54,  65,  53],\n",
       "       [ 70,  98, 108,  82],\n",
       "       [ 98, 127, 146, 103]])"
      ]
     },
     "execution_count": 4,
     "metadata": {},
     "output_type": "execute_result"
    }
   ],
   "source": [
    "A= [[1,5,3],[4,6,6],[3,8,9]]  #3*3\n",
    "B= [[1,5,3,4],[4,5,7,8],[7,8,9,3]]  #3*4\n",
    "print(np.array(A))\n",
    "print(np.array(B))\n",
    "np.matmul(A,B) #3*4"
   ]
  },
  {
   "cell_type": "code",
   "execution_count": 5,
   "id": "79d7da2f",
   "metadata": {},
   "outputs": [
    {
     "name": "stdout",
     "output_type": "stream",
     "text": [
      "[[-1  3  0]\n",
      " [ 2  1 -5]\n",
      " [ 1  4 -2]]\n"
     ]
    },
    {
     "data": {
      "text/plain": [
       "-21.00000000000001"
      ]
     },
     "execution_count": 5,
     "metadata": {},
     "output_type": "execute_result"
    }
   ],
   "source": [
    "#Determinanat\n",
    "import numpy.linalg as la\n",
    "A= [[-1,3,0],[2,1,-5],[1,4,-2]]    \n",
    "print(np.array(A))\n",
    "la.det(A)"
   ]
  },
  {
   "cell_type": "code",
   "execution_count": 19,
   "id": "4997efad",
   "metadata": {},
   "outputs": [
    {
     "data": {
      "text/plain": [
       "array([[-0.85714286, -0.28571429,  0.71428571],\n",
       "       [ 0.04761905, -0.0952381 ,  0.23809524],\n",
       "       [-0.33333333, -0.33333333,  0.33333333]])"
      ]
     },
     "execution_count": 19,
     "metadata": {},
     "output_type": "execute_result"
    }
   ],
   "source": [
    "#Inverse of a Matrix\n",
    "la.inv(A)  #== A = |A|\\"
   ]
  },
  {
   "cell_type": "code",
   "execution_count": null,
   "id": "8206927e",
   "metadata": {},
   "outputs": [],
   "source": []
  }
 ],
 "metadata": {
  "kernelspec": {
   "display_name": "Python 3 (ipykernel)",
   "language": "python",
   "name": "python3"
  },
  "language_info": {
   "codemirror_mode": {
    "name": "ipython",
    "version": 3
   },
   "file_extension": ".py",
   "mimetype": "text/x-python",
   "name": "python",
   "nbconvert_exporter": "python",
   "pygments_lexer": "ipython3",
   "version": "3.9.6"
  }
 },
 "nbformat": 4,
 "nbformat_minor": 5
}
