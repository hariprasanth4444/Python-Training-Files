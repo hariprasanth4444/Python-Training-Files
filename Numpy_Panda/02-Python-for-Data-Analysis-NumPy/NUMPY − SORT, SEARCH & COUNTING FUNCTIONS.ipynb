{
 "cells": [
  {
   "cell_type": "markdown",
   "id": "e876273b",
   "metadata": {},
   "source": [
    "A variety of functions are available in numpy for sorting\n",
    "\n",
    "1.merge sort\n",
    "\n",
    "2.quick sort\n",
    "\n",
    "3.heapsort"
   ]
  },
  {
   "cell_type": "markdown",
   "id": "d3c20a67",
   "metadata": {},
   "source": [
    "# numpy.sort()\n",
    "\n",
    "This function return a sorted copy of the input array\n",
    "\n",
    "   Syntax - numpy.sort(a,axis,kind,order)"
   ]
  },
  {
   "cell_type": "code",
   "execution_count": 1,
   "id": "2ea47ad5",
   "metadata": {},
   "outputs": [
    {
     "name": "stdout",
     "output_type": "stream",
     "text": [
      "Array is....\n",
      "[[10  7  6]\n",
      " [ 9  1 12]]\n",
      "Apply sorting....\n",
      "[[ 6  7 10]\n",
      " [ 1  9 12]]\n",
      "apply sorting columns wise\n",
      "[[ 9  1  6]\n",
      " [10  7 12]]\n"
     ]
    }
   ],
   "source": [
    "import numpy as np\n",
    "a= np.array([[10,7,6],[9,1,12]])\n",
    "\n",
    "print(\"Array is....\")\n",
    "print(a)\n",
    "\n",
    "print(\"Apply sorting....\")\n",
    "print(np.sort(a))\n",
    "\n",
    "print(\"apply sorting columns wise\")\n",
    "print(np.sort(a,0))"
   ]
  },
  {
   "cell_type": "markdown",
   "id": "b23bf7af",
   "metadata": {},
   "source": [
    "# numpy.argsort()\n",
    "\n",
    "The numpy.argsort() function performs an indirect sort on input array, along the given axis and using a specified kind of sort to return the array of indices of data. This indices array is used to construct the sorted array.\n"
   ]
  },
  {
   "cell_type": "code",
   "execution_count": 20,
   "id": "0baa85ef",
   "metadata": {},
   "outputs": [
    {
     "name": "stdout",
     "output_type": "stream",
     "text": [
      "Our array is:\n",
      "[13 10 20]\n",
      "\n",
      "\n",
      "Applying argsort() to x:\n",
      "[1 0 2]\n",
      "\n",
      "\n",
      "Reconstruct original array in sorted order:\n",
      "[10 13 20]\n",
      "\n",
      "\n",
      "Reconstruct the original array using loop:\n",
      "10\n",
      "13\n",
      "20\n"
     ]
    }
   ],
   "source": [
    "import numpy as np \n",
    "x = np.array([13, 10, 20]) \n",
    "\n",
    "print( 'Our array is:') \n",
    "print(x) \n",
    "print ('\\n' ) \n",
    "\n",
    "print ('Applying argsort() to x:') \n",
    "y = np.argsort(x) \n",
    "print(y) \n",
    "print( '\\n')  \n",
    "\n",
    "print ('Reconstruct original array in sorted order:' )\n",
    "print( x[y]) \n",
    "print ('\\n')  \n",
    "\n",
    "print ('Reconstruct the original array using loop:' )\n",
    "for i in y: \n",
    "   print( x[i])\n"
   ]
  },
  {
   "cell_type": "markdown",
   "id": "33aa8601",
   "metadata": {},
   "source": [
    "# numpy.lexsort()\n",
    "\n",
    "function performs an indirect sort using a sequence of keys. The keys can be seen as a column in a spreadsheet. The function returns an array of indices, using which the sorted data can be obtained. Note, that the last key happens to be the primary key of sort."
   ]
  },
  {
   "cell_type": "code",
   "execution_count": 21,
   "id": "84c5a3fb",
   "metadata": {},
   "outputs": [
    {
     "name": "stdout",
     "output_type": "stream",
     "text": [
      "Applying lexsort() function:\n",
      "[3 1 0 2]\n",
      "Use this index to get sorted data:\n",
      "['amar, f.y.', 'anil, s.y.', 'raju, f.y.', 'ravi, s.y.']\n"
     ]
    }
   ],
   "source": [
    "import numpy as np \n",
    "\n",
    "nm = ('raju','anil','ravi','amar') \n",
    "dv = ('f.y.', 's.y.', 's.y.', 'f.y.') \n",
    "ind = np.lexsort((dv,nm)) \n",
    "\n",
    "print ('Applying lexsort() function:' )\n",
    "print (ind) \n",
    "\n",
    "print ('Use this index to get sorted data:') \n",
    "print ([nm[i] + \", \" + dv[i] for i in ind] )"
   ]
  },
  {
   "cell_type": "markdown",
   "id": "6beb72ba",
   "metadata": {},
   "source": [
    "# numpy.argmax() and numpy.argmin()\n",
    "\n",
    "These two functions return the indices of maximum and minimum elements respectively along the given axis."
   ]
  },
  {
   "cell_type": "code",
   "execution_count": 2,
   "id": "ad72ad2c",
   "metadata": {},
   "outputs": [
    {
     "name": "stdout",
     "output_type": "stream",
     "text": [
      "Our array is:\n",
      "[[30 40 70]\n",
      " [80 20 10]\n",
      " [50 90 60]]\n",
      "Applying argmax() function:\n",
      "7\n",
      "Index of maximum number in flattened array\n",
      "[30 40 70 80 20 10 50 90 60]\n",
      "Array containing indices of maximum along axis 0:\n",
      "[1 2 0]\n",
      "\n",
      "\n",
      "Array containing indices of maximum along axis 1:\n",
      "[2 0 1]\n",
      "\n",
      "\n",
      "Applying argmin() function:\n",
      "5\n",
      "\n",
      "\n",
      "Flattened array:\n",
      "10\n",
      "\n",
      "\n",
      "Flattened array along axis 0:\n",
      "[0 1 1]\n",
      "\n",
      "\n",
      "Flattened array along axis 1:\n",
      "[0 2 0]\n"
     ]
    }
   ],
   "source": [
    "import numpy as np \n",
    "a = np.array([[30,40,70],[80,20,10],[50,90,60]]) \n",
    "\n",
    "print('Our array is:') \n",
    "print( a) \n",
    " \n",
    "\n",
    "print ('Applying argmax() function:') \n",
    "print(np.argmax(a))\n",
    "\n",
    "print('Index of maximum number in flattened array' )\n",
    "print( a.flatten() )\n",
    "\n",
    "\n",
    "print ('Array containing indices of maximum along axis 0:' )\n",
    "maxindex = np.argmax(a, axis = 0) \n",
    "print (maxindex)\n",
    "print ('\\n' )\n",
    "\n",
    "print ('Array containing indices of maximum along axis 1:' )\n",
    "maxindex = np.argmax(a, axis = 1) \n",
    "print( maxindex)\n",
    "print ('\\n' )\n",
    "\n",
    "print ('Applying argmin() function:')\n",
    "minindex = np.argmin(a) \n",
    "print(minindex)\n",
    "print ('\\n' )\n",
    "   \n",
    "print ('Flattened array:')\n",
    "print(a.flatten()[minindex])\n",
    "print ('\\n' )  \n",
    "\n",
    "print( 'Flattened array along axis 0:')\n",
    "minindex = np.argmin(a, axis = 0) \n",
    "print( minindex)\n",
    "print ('\\n' )\n",
    "\n",
    "print( 'Flattened array along axis 1:' )\n",
    "minindex = np.argmin(a, axis = 1) \n",
    "print( minindex)\n"
   ]
  },
  {
   "cell_type": "markdown",
   "id": "551920ae",
   "metadata": {},
   "source": [
    "# numpy.nonzero()\n",
    "\n",
    "The numpy.nonzero() function returns the indices of non-zero elements in the input array."
   ]
  },
  {
   "cell_type": "code",
   "execution_count": 4,
   "id": "c599e09b",
   "metadata": {},
   "outputs": [
    {
     "name": "stdout",
     "output_type": "stream",
     "text": [
      "Our array is:\n",
      "[[30 40  0]\n",
      " [ 0 20 10]\n",
      " [50  0 60]]\n",
      "\n",
      "\n",
      "Applying nonzero() function:\n",
      "[30 40 20 10 50 60]\n"
     ]
    }
   ],
   "source": [
    "import numpy as np \n",
    "a = np.array([[30,40,0],[0,20,10],[50,0,60]]) \n",
    "    #00,01,11,12,20,22\n",
    "print( 'Our array is:') \n",
    "print( a) \n",
    "print ('\\n')  \n",
    "\n",
    "print( 'Applying nonzero() function:') \n",
    "x= np.nonzero (a);\n",
    "print(a[x])"
   ]
  },
  {
   "cell_type": "markdown",
   "id": "9b0a452a",
   "metadata": {},
   "source": [
    "# numpy.where()\n",
    "\n",
    "The where() function returns the indices of elements in an input array where the given condition is satisfied."
   ]
  },
  {
   "cell_type": "code",
   "execution_count": 6,
   "id": "2de9753a",
   "metadata": {},
   "outputs": [
    {
     "name": "stdout",
     "output_type": "stream",
     "text": [
      "Our array is:\n",
      "[[0. 1. 2.]\n",
      " [3. 4. 5.]\n",
      " [6. 7. 8.]]\n",
      "Indices of elements > 3\n",
      "(array([1, 1, 2, 2, 2], dtype=int64), array([1, 2, 0, 1, 2], dtype=int64))\n",
      "Use these indices to get elements satisfying the condition\n",
      "[4. 5. 6. 7. 8.]\n"
     ]
    }
   ],
   "source": [
    "import numpy as np \n",
    "x = np.arange(9.).reshape(3, 3) \n",
    "\n",
    "print( 'Our array is:') \n",
    "print( x)  \n",
    "\n",
    "print( 'Indices of elements > 3') \n",
    "y = np.where(x>3) \n",
    "print( y)  \n",
    "\n",
    "print( 'Use these indices to get elements satisfying the condition') \n",
    "print( x[y])"
   ]
  },
  {
   "cell_type": "markdown",
   "id": "a6389559",
   "metadata": {},
   "source": [
    "# numpy.extract()\n",
    "The extract() function returns the elements satisfying any condition."
   ]
  },
  {
   "cell_type": "code",
   "execution_count": 8,
   "id": "57f856e4",
   "metadata": {},
   "outputs": [
    {
     "name": "stdout",
     "output_type": "stream",
     "text": [
      "Our array is:\n",
      "[[0. 1. 2.]\n",
      " [3. 4. 5.]\n",
      " [6. 7. 8.]]\n",
      "Element-wise value of condition\n",
      "[[ True False  True]\n",
      " [False  True False]\n",
      " [ True False  True]]\n",
      "Extract elements using condition\n",
      "[0. 2. 4. 6. 8.]\n"
     ]
    }
   ],
   "source": [
    "import numpy as np \n",
    "x = np.arange(9.).reshape(3, 3) \n",
    "\n",
    "print( 'Our array is:') \n",
    "print( x)  \n",
    "\n",
    "# define a condition \n",
    "condition = np.mod(x,2) == 0 \n",
    "\n",
    "print ('Element-wise value of condition') \n",
    "print( condition  )\n",
    "\n",
    "print( 'Extract elements using condition')\n",
    "print( np.extract(condition, x))"
   ]
  },
  {
   "cell_type": "markdown",
   "id": "f65f36e0",
   "metadata": {},
   "source": [
    "# NUMPY − BYTE SWAPPING\n",
    "\n",
    "We have seen that the data stored in the memory of a computer depends on which architecture the CPU uses. It may be little-endian (least significant is stored in the smallest address) or big-endian (most significant byte in the smallest address).\n",
    "\n",
    "**numpy.ndarray.byteswap() **\n",
    "\n",
    "The numpy.ndarray.byteswap() function toggles between the two representations: bigendian and little-endian.     "
   ]
  },
  {
   "cell_type": "code",
   "execution_count": 16,
   "id": "58bad646",
   "metadata": {},
   "outputs": [
    {
     "name": "stdout",
     "output_type": "stream",
     "text": [
      "Our array is:\n",
      "[   1  256 8755]\n",
      "Representation of data in memory in hexadecimal form:\n",
      "['0x1', '0x100', '0x2233']\n",
      "Applying byteswap() function:\n",
      "[  256     1 13090]\n",
      "In hexadecimal form:\n",
      "['0x100', '0x1', '0x3322']\n"
     ]
    }
   ],
   "source": [
    "import numpy as np \n",
    "a = np.array([1, 256, 8755], dtype = np.int16) \n",
    "\n",
    "print( 'Our array is:' )\n",
    "print( a)  \n",
    "\n",
    "print( 'Representation of data in memory in hexadecimal form:')  \n",
    "print(list( map(hex,a)))  \n",
    "# byteswap() function swaps in place by passing True parameter \n",
    "\n",
    "print( 'Applying byteswap() function:') \n",
    "print( a.byteswap(True)) \n",
    "\n",
    "print( 'In hexadecimal form:' )\n",
    "print(list( map(hex,a))) \n",
    "# We can see the bytes being swapped"
   ]
  },
  {
   "cell_type": "markdown",
   "id": "90d47729",
   "metadata": {},
   "source": [
    "# NUMPY − COPIES & VIEWS\n",
    "\n",
    "While executing the functions, some of them return a copy of the input array, while some return the view. When the contents are physically stored in another location, it is called Copy. If on the other hand, a different view of the same memory content is provided, we call it as View.\n",
    "\n",
    "**No Copy**\n",
    "\n",
    "Simple assignments do not make the copy of array object. Instead, it uses the same id() of the original array to access it. The id() returns a universal identifier of Python object, similar to the pointer in C.\n",
    "\n",
    "Furthermore, any changes in either gets reflected in the other. For example, the changing shape of one will change the shape of the other too."
   ]
  },
  {
   "cell_type": "code",
   "execution_count": 9,
   "id": "765e0da0",
   "metadata": {},
   "outputs": [
    {
     "name": "stdout",
     "output_type": "stream",
     "text": [
      "Our array is:\n",
      "[0 1 2 3 4 5]\n",
      "Applying id() function:\n",
      "1962869204912\n",
      "a is assigned to b:\n",
      "[0 1 2 3 4 5]\n",
      "b has same id():\n",
      "1962869204912\n",
      "Change shape of b:\n",
      "[[0 1]\n",
      " [2 3]\n",
      " [4 5]]\n",
      "Shape of a also gets changed:\n",
      "[[0 1]\n",
      " [2 3]\n",
      " [4 5]]\n"
     ]
    }
   ],
   "source": [
    "import numpy as np \n",
    "a = np.arange(6) \n",
    "\n",
    "print( 'Our array is:' )\n",
    "print( a ) \n",
    "\n",
    "print( 'Applying id() function:' )\n",
    "print( id(a))  \n",
    "\n",
    "print( 'a is assigned to b:') \n",
    "b = a \n",
    "print( b)  \n",
    "\n",
    "print( 'b has same id():') \n",
    "print( id(b))  \n",
    "\n",
    "print( 'Change shape of b:') \n",
    "b.shape = 3,2 \n",
    "print( b)  \n",
    "\n",
    "print( 'Shape of a also gets changed:') \n",
    "print( a)"
   ]
  },
  {
   "cell_type": "markdown",
   "id": "1db68a05",
   "metadata": {},
   "source": [
    "# View or Shallow Copy\n",
    "\n",
    "NumPy has ndarray.view() method which is a new array object that looks at the same data of the original array. Unlike the earlier case, change in dimensions of the new array doesn’t change dimensions of the original."
   ]
  },
  {
   "cell_type": "code",
   "execution_count": 18,
   "id": "55a6952c",
   "metadata": {},
   "outputs": [
    {
     "name": "stdout",
     "output_type": "stream",
     "text": [
      "Array a:\n",
      "[[0 1]\n",
      " [2 3]\n",
      " [4 5]]\n",
      "Create view of a:\n",
      "[[0 1]\n",
      " [2 3]\n",
      " [4 5]]\n",
      "id() for both the arrays are different:\n",
      "id() of a:\n",
      "1311138910928\n",
      "id() of b:\n",
      "1311138911024\n",
      "Shape of b:\n",
      "[[100   1   2]\n",
      " [  3   4   5]]\n",
      "Shape of a:\n",
      "[[100   1]\n",
      " [  2   3]\n",
      " [  4   5]]\n"
     ]
    }
   ],
   "source": [
    "import numpy as np \n",
    "# To begin with, a is 3X2 array \n",
    "a = np.arange(6).reshape(3,2) \n",
    "\n",
    "print( 'Array a:') \n",
    "print( a)  \n",
    "\n",
    "print( 'Create view of a:' )\n",
    "b = a.view() \n",
    "print( b)  \n",
    "\n",
    "print ('id() for both the arrays are different:' )\n",
    "print( 'id() of a:')\n",
    "print (id(a)  )\n",
    "print( 'id() of b:') \n",
    "print (id(b)  )\n",
    "\n",
    "# Change the shape of b. It does not change the shape of a \n",
    "b.shape = 2,3 \n",
    "\n",
    "b[0,0]=100\n",
    "print( 'Shape of b:') \n",
    "print (b)  \n",
    "\n",
    "print( 'Shape of a:') \n",
    "print (a)"
   ]
  },
  {
   "cell_type": "code",
   "execution_count": null,
   "id": "130fc4ef",
   "metadata": {},
   "outputs": [],
   "source": [
    "import numpy as np \n",
    "a = np.array([[10,10], [2,3], [4,5]]) \n",
    "\n",
    "print 'Our array is:' \n",
    "print a  \n",
    "\n",
    "print 'Create a slice:' \n",
    "s = a[:, :2] \n",
    "print s "
   ]
  },
  {
   "cell_type": "markdown",
   "id": "c46db931",
   "metadata": {},
   "source": [
    "**Deep Copy**\n",
    "\n",
    "The ndarray.copy() function creates a deep copy. It is a complete copy of the array and its data, and doesn’t share with the original array."
   ]
  },
  {
   "cell_type": "code",
   "execution_count": 26,
   "id": "e0af20da",
   "metadata": {},
   "outputs": [
    {
     "name": "stdout",
     "output_type": "stream",
     "text": [
      "Array a is:\n",
      "[[10 10]\n",
      " [ 2  3]\n",
      " [ 4  5]]\n",
      "Create a deep copy of a:\n",
      "Array b is:\n",
      "[[10 10]\n",
      " [ 2  3]\n",
      " [ 4  5]]\n",
      "Can we write b is a\n",
      "False\n",
      "Change the contents of b:\n",
      "Modified array b:\n",
      "[[100  10]\n",
      " [  2   3]\n",
      " [  4   5]]\n",
      "a remains unchanged:\n",
      "[[10 10]\n",
      " [ 2  3]\n",
      " [ 4  5]]\n"
     ]
    }
   ],
   "source": [
    "import numpy as np \n",
    "a = np.array([[10,10], [2,3], [4,5]]) \n",
    "\n",
    "print( 'Array a is:') \n",
    "print( a  )\n",
    "\n",
    "print ('Create a deep copy of a:' )\n",
    "b = a.copy() \n",
    "print( 'Array b is:' )\n",
    "print( b )\n",
    "\n",
    "#b does not share any memory of a \n",
    "print( 'Can we write b is a' )\n",
    "print( b is a  )\n",
    "\n",
    "print ('Change the contents of b:' )\n",
    "b[0,0] = 100 \n",
    "\n",
    "print ('Modified array b:' )\n",
    "print (b)  \n",
    "\n",
    "print ('a remains unchanged:' )\n",
    "print (a)"
   ]
  },
  {
   "cell_type": "code",
   "execution_count": null,
   "id": "97c74f92",
   "metadata": {},
   "outputs": [],
   "source": []
  }
 ],
 "metadata": {
  "kernelspec": {
   "display_name": "Python 3 (ipykernel)",
   "language": "python",
   "name": "python3"
  },
  "language_info": {
   "codemirror_mode": {
    "name": "ipython",
    "version": 3
   },
   "file_extension": ".py",
   "mimetype": "text/x-python",
   "name": "python",
   "nbconvert_exporter": "python",
   "pygments_lexer": "ipython3",
   "version": "3.9.6"
  }
 },
 "nbformat": 4,
 "nbformat_minor": 5
}
