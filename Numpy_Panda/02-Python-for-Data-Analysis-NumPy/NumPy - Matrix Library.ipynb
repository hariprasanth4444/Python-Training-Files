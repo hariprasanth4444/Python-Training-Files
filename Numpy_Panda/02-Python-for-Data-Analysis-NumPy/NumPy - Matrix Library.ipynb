{
 "cells": [
  {
   "cell_type": "markdown",
   "id": "8526d511",
   "metadata": {},
   "source": [
    "NumPy package contains a Matrix library numpy.matlib. This module has functions that return matrices instead of ndarray objects.\n",
    "\n",
    "**matlib.empty()**\n",
    "\n",
    "The matlib.empty() function returns a new matrix without initializing the entries. The function takes the following parameters.\n",
    "\n",
    " **numpy.matlib.empty(shape, dtype, order)**\n",
    " \n",
    "Where,\n",
    "\n",
    "1\t\n",
    "shape\n",
    "\n",
    "int or tuple of int defining the shape of the new matrix\n",
    "\n",
    "2\t\n",
    "Dtype\n",
    "\n",
    "Optional. Data type of the output\n",
    "\n",
    "3\t\n",
    "order\n",
    "\n",
    "C or F"
   ]
  },
  {
   "cell_type": "code",
   "execution_count": 3,
   "id": "201feded",
   "metadata": {},
   "outputs": [
    {
     "name": "stdout",
     "output_type": "stream",
     "text": [
      "[[5242959 5111877 4980802]\n",
      " [5439553 5046367 4784193]\n",
      " [6225998 5374022 4522053]]\n"
     ]
    }
   ],
   "source": [
    "import numpy.matlib \n",
    "import numpy as np \n",
    "\n",
    "print(np.matlib.empty((3,3),dtype=int) )\n",
    "# filled with random data"
   ]
  },
  {
   "cell_type": "markdown",
   "id": "9c88298e",
   "metadata": {},
   "source": [
    "**numpy.matlib.zeros()**\n",
    "\n",
    "This function returns the matrix filled with zeros."
   ]
  },
  {
   "cell_type": "code",
   "execution_count": 4,
   "id": "85a433fe",
   "metadata": {},
   "outputs": [
    {
     "name": "stdout",
     "output_type": "stream",
     "text": [
      "[[0. 0.]\n",
      " [0. 0.]]\n"
     ]
    }
   ],
   "source": [
    "import numpy.matlib \n",
    "import numpy as np \n",
    "print (np.matlib.zeros((2,2))) "
   ]
  },
  {
   "cell_type": "markdown",
   "id": "edc94ab1",
   "metadata": {},
   "source": [
    "numpy.matlib.ones()\n",
    "This function returns the matrix filled with 1s."
   ]
  },
  {
   "cell_type": "code",
   "execution_count": 5,
   "id": "2998dc65",
   "metadata": {},
   "outputs": [
    {
     "name": "stdout",
     "output_type": "stream",
     "text": [
      "[[1. 1.]\n",
      " [1. 1.]]\n"
     ]
    }
   ],
   "source": [
    "import numpy.matlib \n",
    "import numpy as np \n",
    "print( np.matlib.ones((2,2)))"
   ]
  },
  {
   "cell_type": "markdown",
   "id": "d70e6c0b",
   "metadata": {},
   "source": [
    "numpy.matlib.eye()\n",
    "This function returns a matrix with 1 along the diagonal elements and the zeros elsewhere. The function takes the following parameters.\n",
    "\n",
    "numpy.matlib.eye(n, M,k, dtype)\n",
    "Where,\n",
    "\n",
    "Sr.No.\tParameter & Description\n",
    "1\t\n",
    "n\n",
    "\n",
    "The number of rows in the resulting matrix\n",
    "\n",
    "2\t\n",
    "M\n",
    "\n",
    "The number of columns, defaults to n\n",
    "\n",
    "3\t\n",
    "k\n",
    "\n",
    "Index of diagonal\n",
    "\n",
    "4\t\n",
    "dtype\n",
    "\n",
    "Data type of the output\n",
    "\n"
   ]
  },
  {
   "cell_type": "code",
   "execution_count": 6,
   "id": "9cc43381",
   "metadata": {},
   "outputs": [
    {
     "name": "stdout",
     "output_type": "stream",
     "text": [
      "[[0. 0. 1. 0.]\n",
      " [0. 0. 0. 1.]\n",
      " [0. 0. 0. 0.]]\n"
     ]
    }
   ],
   "source": [
    "import numpy.matlib \n",
    "import numpy as np \n",
    "print( np.matlib.eye(n = 3, M = 4, k = 2, dtype = float))"
   ]
  },
  {
   "cell_type": "markdown",
   "id": "e6b17098",
   "metadata": {},
   "source": [
    "numpy.matlib.identity()\n",
    "\n",
    "The numpy.matlib.identity() function returns the Identity matrix of the given size. An identity matrix is a square matrix with all diagonal elements as 1."
   ]
  },
  {
   "cell_type": "code",
   "execution_count": 8,
   "id": "599d9a8f",
   "metadata": {},
   "outputs": [
    {
     "name": "stdout",
     "output_type": "stream",
     "text": [
      "[[1. 0. 0. 0.]\n",
      " [0. 1. 0. 0.]\n",
      " [0. 0. 1. 0.]\n",
      " [0. 0. 0. 1.]]\n"
     ]
    }
   ],
   "source": [
    "import numpy.matlib \n",
    "import numpy as np \n",
    "print( np.matlib.identity(4, dtype = float))"
   ]
  },
  {
   "cell_type": "code",
   "execution_count": null,
   "id": "b5f10cd8",
   "metadata": {},
   "outputs": [],
   "source": [
    "numpy.matlib.rand()\n",
    "\n",
    "The numpy.matlib.rand() function returns a matrix of the given size filled with random values."
   ]
  },
  {
   "cell_type": "code",
   "execution_count": 8,
   "id": "e06beb82",
   "metadata": {},
   "outputs": [
    {
     "name": "stdout",
     "output_type": "stream",
     "text": [
      "[[0.8807783  0.61939079 0.2830526 ]\n",
      " [0.89289988 0.73345998 0.26424233]\n",
      " [0.53616732 0.93015255 0.59734515]]\n"
     ]
    }
   ],
   "source": [
    "import numpy.matlib \n",
    "import numpy as np \n",
    "print( np.matlib.rand(3,3))"
   ]
  },
  {
   "cell_type": "markdown",
   "id": "3afe10f6",
   "metadata": {},
   "source": [
    "Note that a matrix is always two-dimensional, whereas ndarray is an n-dimensional array. Both the objects are inter-convertible."
   ]
  },
  {
   "cell_type": "code",
   "execution_count": 9,
   "id": "81fd9c34",
   "metadata": {},
   "outputs": [
    {
     "name": "stdout",
     "output_type": "stream",
     "text": [
      "[[1 2 5]\n",
      " [3 4 6]\n",
      " [5 6 7]]\n"
     ]
    }
   ],
   "source": [
    "import numpy.matlib \n",
    "import numpy as np  \n",
    "\n",
    "i = np.matrix('1,2,5;3,4,6;5,6,7') \n",
    "print( i) "
   ]
  },
  {
   "cell_type": "code",
   "execution_count": 10,
   "id": "ee808fb7",
   "metadata": {},
   "outputs": [
    {
     "name": "stdout",
     "output_type": "stream",
     "text": [
      "[[1 2 5]\n",
      " [3 4 6]\n",
      " [5 6 7]]\n"
     ]
    }
   ],
   "source": [
    "import numpy.matlib \n",
    "import numpy as np  \n",
    "\n",
    "j = np.asarray(i) \n",
    "print (j) "
   ]
  },
  {
   "cell_type": "code",
   "execution_count": 12,
   "id": "2fe9c668",
   "metadata": {},
   "outputs": [
    {
     "name": "stdout",
     "output_type": "stream",
     "text": [
      "[[1 2 5]\n",
      " [3 4 6]\n",
      " [5 6 7]]\n"
     ]
    }
   ],
   "source": [
    "import numpy.matlib \n",
    "import numpy as np  \n",
    "\n",
    "k = np.asmatrix (j) \n",
    "print (k)"
   ]
  },
  {
   "cell_type": "code",
   "execution_count": null,
   "id": "69edd05b",
   "metadata": {},
   "outputs": [],
   "source": []
  },
  {
   "cell_type": "code",
   "execution_count": null,
   "id": "11b0cd7b",
   "metadata": {},
   "outputs": [],
   "source": []
  },
  {
   "cell_type": "code",
   "execution_count": null,
   "id": "7e482f0d",
   "metadata": {},
   "outputs": [],
   "source": []
  },
  {
   "cell_type": "code",
   "execution_count": null,
   "id": "87b0a898",
   "metadata": {},
   "outputs": [],
   "source": []
  },
  {
   "cell_type": "code",
   "execution_count": null,
   "id": "40c46f23",
   "metadata": {},
   "outputs": [],
   "source": []
  }
 ],
 "metadata": {
  "kernelspec": {
   "display_name": "Python 3 (ipykernel)",
   "language": "python",
   "name": "python3"
  },
  "language_info": {
   "codemirror_mode": {
    "name": "ipython",
    "version": 3
   },
   "file_extension": ".py",
   "mimetype": "text/x-python",
   "name": "python",
   "nbconvert_exporter": "python",
   "pygments_lexer": "ipython3",
   "version": "3.9.6"
  }
 },
 "nbformat": 4,
 "nbformat_minor": 5
}
