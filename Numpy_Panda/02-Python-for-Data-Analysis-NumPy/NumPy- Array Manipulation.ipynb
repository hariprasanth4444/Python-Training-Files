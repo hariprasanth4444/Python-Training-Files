{
 "cells": [
  {
   "cell_type": "markdown",
   "id": "0fed05af",
   "metadata": {},
   "source": [
    "# Changing Shape\n",
    "1.**Reshape**\n",
    " It gives new shape to an array without changing its data.\n",
    " \n",
    "2.**Flat**\n",
    " A 1-D iterator over the array\n",
    " \n",
    "3.**flatten**\n",
    " Returns a copy of the array collapsed into one dimension\n",
    " \n",
    "4.**ravel**\n",
    " Returns a contiguous flattened array"
   ]
  },
  {
   "cell_type": "code",
   "execution_count": 3,
   "id": "8b96c3c6",
   "metadata": {},
   "outputs": [
    {
     "name": "stdout",
     "output_type": "stream",
     "text": [
      "The original array:..\n",
      "[[0 1 2]\n",
      " [3 4 5]\n",
      " [6 7 8]]\n",
      "After applying the flat function:\n",
      "7\n",
      "After applying flatten function:\n",
      "[0 1 2 3 4 5 6 7 8]\n",
      "The flattened array in F-style ordering:\n",
      "[0 3 6 1 4 7 2 5 8]\n",
      "After applying ravel function:\n",
      "[0 1 2 3 4 5 6 7 8]\n"
     ]
    }
   ],
   "source": [
    "import numpy as np\n",
    "a = np.arange(9).reshape(3,3)\n",
    "print(\"The original array:..\")\n",
    "print(a)\n",
    "\n",
    "print(\"After applying the flat function:\")\n",
    "print(a.flat[7])\n",
    "\n",
    "print(\"After applying flatten function:\")\n",
    "print(a.flatten())\n",
    "\n",
    "print(\"The flattened array in F-style ordering:\")\n",
    "print(a.flatten(order='F'))\n",
    "\n",
    "print(\"After applying ravel function:\")\n",
    "print(a.ravel())"
   ]
  },
  {
   "cell_type": "markdown",
   "id": "9fb85bfc",
   "metadata": {},
   "source": [
    "# Transpose operations\n",
    "1.**transpose**\n",
    "  permutes the dimensions of an array\n",
    "  \n",
    "2. **ndarray.T**\n",
    "  same as self.transpose\n",
    "  \n",
    "3. **rollaxis**  \n",
    "   syntax = rollaxis(arr,axis,start=0)\n",
    "  Rolls the specified axis backwards\n",
    "  \n",
    "4. **swapaxes**\n",
    "    syntax =  swapaxes(arr,source,dest)\n",
    "  Interchanges the two axes of an array"
   ]
  },
  {
   "cell_type": "code",
   "execution_count": 30,
   "id": "79305627",
   "metadata": {},
   "outputs": [
    {
     "name": "stdout",
     "output_type": "stream",
     "text": [
      "The origninal array is :\n",
      "[[ 0  1  2  3]\n",
      " [ 4  5  6  7]\n",
      " [ 8  9 10 11]]\n",
      "The transposed array is:\n",
      "[[ 0  4  8]\n",
      " [ 1  5  9]\n",
      " [ 2  6 10]\n",
      " [ 3  7 11]]\n",
      "After applying the ndarray.T\n",
      "[[ 0  4  8]\n",
      " [ 1  5  9]\n",
      " [ 2  6 10]\n",
      " [ 3  7 11]]\n",
      "New array is \n",
      "[[[ 0  1  2]\n",
      "  [ 3  4  5]\n",
      "  [ 6  7  8]\n",
      "  [ 9 10 11]]\n",
      "\n",
      " [[12 13 14]\n",
      "  [15 16 17]\n",
      "  [18 19 20]\n",
      "  [21 22 23]]]\n",
      "After applying rollaxis function\n",
      "[[[[1. 1. 1. 1.]\n",
      "   [1. 1. 1. 1.]]]\n",
      "\n",
      "\n",
      " [[[1. 1. 1. 1.]\n",
      "   [1. 1. 1. 1.]]]\n",
      "\n",
      "\n",
      " [[[1. 1. 1. 1.]\n",
      "   [1. 1. 1. 1.]]]]\n",
      "\n",
      "\n",
      "[[[[1. 1. 1. 1.]\n",
      "   [1. 1. 1. 1.]]\n",
      "\n",
      "  [[1. 1. 1. 1.]\n",
      "   [1. 1. 1. 1.]]\n",
      "\n",
      "  [[1. 1. 1. 1.]\n",
      "   [1. 1. 1. 1.]]]]\n",
      "After applying rollaxis function\n",
      "[[[ 0  3  6  9]\n",
      "  [12 15 18 21]]\n",
      "\n",
      " [[ 1  4  7 10]\n",
      "  [13 16 19 22]]\n",
      "\n",
      " [[ 2  5  8 11]\n",
      "  [14 17 20 23]]]\n",
      "\n",
      "\n",
      "[[[ 0  3  6  9]\n",
      "  [ 1  4  7 10]\n",
      "  [ 2  5  8 11]]\n",
      "\n",
      " [[12 15 18 21]\n",
      "  [13 16 19 22]\n",
      "  [14 17 20 23]]]\n",
      "After applying the swapaxes\n",
      "[[[ 0  3  6  9]\n",
      "  [ 1  4  7 10]\n",
      "  [ 2  5  8 11]]\n",
      "\n",
      " [[12 15 18 21]\n",
      "  [13 16 19 22]\n",
      "  [14 17 20 23]]]\n"
     ]
    }
   ],
   "source": [
    "a = np.arange(12).reshape(3,4)\n",
    "\n",
    "print(\"The origninal array is :\")\n",
    "print(a)\n",
    "\n",
    "print(\"The transposed array is:\")\n",
    "print(np.transpose(a))\n",
    "\n",
    "print(\"After applying the ndarray.T\")\n",
    "print(a.T)\n",
    "\n",
    "a= np.arange(24).reshape(2,4,3)\n",
    "print(\"New array is \")\n",
    "print(a)\n",
    "\n",
    "d = np.ones((1,2,3,4))\n",
    "print(\"After applying rollaxis function\")\n",
    "print(np.rollaxis(d,2))\n",
    "print(\"\\n\")\n",
    "print(np.rollaxis(d,2,1))\n",
    "\n",
    "\n",
    "print(\"After applying rollaxis function\")\n",
    "print(np.rollaxis(a,2))\n",
    "print(\"\\n\")\n",
    "print(np.rollaxis(a,2,1))\n",
    "\n",
    "print(\"After applying the swapaxes\")\n",
    "print(np.swapaxes(a,2,1))"
   ]
  },
  {
   "cell_type": "markdown",
   "id": "151a91d8",
   "metadata": {},
   "source": [
    "# changing Dimensions\n",
    "1. **broadcast**\n",
    " produces an object the mimics broadcasting\n",
    "2. **broadcast_to**\n",
    " Boradcasts an array to a new shape\n",
    "3. **expand_dims**\n",
    " Expands the shape of an array\n",
    "4. **squeeze**\n",
    " Removes single-dimensional entries from the shape of an array\n",
    " "
   ]
  },
  {
   "cell_type": "code",
   "execution_count": 15,
   "id": "6b7fb68f",
   "metadata": {},
   "outputs": [
    {
     "name": "stdout",
     "output_type": "stream",
     "text": [
      "1 4\n",
      "1 5\n",
      "1 6\n",
      "2 4\n",
      "2 5\n",
      "2 6\n",
      "3 4\n",
      "3 5\n",
      "3 6\n"
     ]
    },
    {
     "ename": "StopIteration",
     "evalue": "",
     "output_type": "error",
     "traceback": [
      "\u001b[1;31m---------------------------------------------------------------------------\u001b[0m",
      "\u001b[1;31mStopIteration\u001b[0m                             Traceback (most recent call last)",
      "Cell \u001b[1;32mIn[15], line 19\u001b[0m\n\u001b[0;32m     17\u001b[0m \u001b[38;5;28mprint\u001b[39m(\u001b[38;5;28mnext\u001b[39m(r), \u001b[38;5;28mnext\u001b[39m(c))\n\u001b[0;32m     18\u001b[0m \u001b[38;5;28mprint\u001b[39m(\u001b[38;5;28mnext\u001b[39m(r), \u001b[38;5;28mnext\u001b[39m(c))\n\u001b[1;32m---> 19\u001b[0m \u001b[38;5;28mprint\u001b[39m(\u001b[38;5;28;43mnext\u001b[39;49m\u001b[43m(\u001b[49m\u001b[43mr\u001b[49m\u001b[43m)\u001b[49m, \u001b[38;5;28mnext\u001b[39m(c))\n",
      "\u001b[1;31mStopIteration\u001b[0m: "
     ]
    }
   ],
   "source": [
    "x= np.array([[1],[2],[3]])\n",
    "y=np.array([4,5,6])\n",
    "\n",
    "#broadcasts x aagainst y\n",
    "b = np.broadcast(x,y)\n",
    "# it has an iterator property a touple of iteratoralong self's component\n",
    "\n",
    "r,c = b.iters\n",
    "#print(next(r))\n",
    "print(next(r), next(c))\n",
    "print(next(r), next(c))\n",
    "print(next(r), next(c))\n",
    "print(next(r), next(c))\n",
    "print(next(r), next(c))\n",
    "print(next(r), next(c))\n",
    "print(next(r), next(c))\n",
    "print(next(r), next(c))\n",
    "print(next(r), next(c))\n",
    "#print(next(r), next(c))"
   ]
  },
  {
   "cell_type": "markdown",
   "id": "14bad1b4",
   "metadata": {},
   "source": [
    "**Numpy VStack and hStack**\n",
    "\n",
    "numpy.hstack() function is used to stack the sequence of input arrays horizontally (i.e. column wise) to make a single array.\n",
    "\n",
    "Syntax : numpy.hstack(tup)\n",
    "\n",
    "Parameters :\n",
    "tup : [sequence of ndarrays] Tuple containing arrays to be stacked. The arrays must have the same shape along all but the second axis.\n",
    "\n",
    "Return : [stacked ndarray] The stacked array of the input arrays."
   ]
  },
  {
   "cell_type": "code",
   "execution_count": 16,
   "id": "3a3625ae",
   "metadata": {},
   "outputs": [
    {
     "name": "stdout",
     "output_type": "stream",
     "text": [
      "1st Input array : \n",
      " [1 2 3]\n",
      "2nd Input array : \n",
      " [4 5 6]\n",
      "Output horizontally stacked array:\n",
      "  [1 2 3 4 5 6]\n"
     ]
    }
   ],
   "source": [
    "# Python program explaining\n",
    "# hstack() function\n",
    "\n",
    "import numpy as geek\n",
    "\n",
    "# input array\n",
    "in_arr1 = geek.array([ 1, 2, 3] )\n",
    "print (\"1st Input array : \\n\", in_arr1)\n",
    "\n",
    "in_arr2 = geek.array([ 4, 5, 6] )\n",
    "print (\"2nd Input array : \\n\", in_arr2)\n",
    "\n",
    "# Stacking the two arrays horizontally\n",
    "out_arr = geek.hstack((in_arr1, in_arr2))\n",
    "print (\"Output horizontally stacked array:\\n \", out_arr)\n"
   ]
  },
  {
   "cell_type": "code",
   "execution_count": 2,
   "id": "06f9400b",
   "metadata": {},
   "outputs": [
    {
     "name": "stdout",
     "output_type": "stream",
     "text": [
      "1st Input array : \n",
      " [[ 1  2  3]\n",
      " [-1 -2 -3]]\n",
      "2nd Input array : \n",
      " [[ 4  5  6]\n",
      " [-4 -5 -6]]\n",
      "Output stacked array :\n",
      "  [[ 1  2  3  4  5  6]\n",
      " [-1 -2 -3 -4 -5 -6]]\n"
     ]
    }
   ],
   "source": [
    "import numpy as geek\n",
    "  \n",
    "# input array\n",
    "in_arr1 = geek.array([[ 1, 2, 3], [ -1, -2, -3]] )\n",
    "print (\"1st Input array : \\n\", in_arr1) \n",
    "  \n",
    "in_arr2 = geek.array([[ 4, 5, 6], [ -4, -5, -6]] )\n",
    "print (\"2nd Input array : \\n\", in_arr2) \n",
    "  \n",
    "# Stacking the two arrays horizontally\n",
    "out_arr = geek.hstack((in_arr1, in_arr2))\n",
    "print (\"Output stacked array :\\n \", out_arr)"
   ]
  },
  {
   "cell_type": "markdown",
   "id": "f0ba462c",
   "metadata": {},
   "source": [
    "**numpy.vstack() function**\n",
    "\n",
    "  It is used to stack arrays vertically (row-wise) to make a single array. It takes a sequence of arrays and joins them vertically. This is equivalent to concatenation along the first axis after 1-D arrays of shape (N,) have been reshaped to (1,N).\n",
    "This function is useful when you have two or more arrays with the same number of columns, and you want to concatenate them vertically (row-wise). It is also useful to append a single array as a new row to an existing 2D array."
   ]
  },
  {
   "cell_type": "code",
   "execution_count": 17,
   "id": "d8a0a83f",
   "metadata": {},
   "outputs": [
    {
     "data": {
      "text/plain": [
       "array([[3, 5, 7],\n",
       "       [5, 7, 9]])"
      ]
     },
     "execution_count": 17,
     "metadata": {},
     "output_type": "execute_result"
    }
   ],
   "source": [
    "import numpy as np\n",
    "x = np.array([3, 5, 7])\n",
    "y = np.array([5, 7, 9])\n",
    "np.vstack((x,y))\n",
    "\n"
   ]
  },
  {
   "cell_type": "code",
   "execution_count": 12,
   "id": "0cd0ae2d",
   "metadata": {},
   "outputs": [
    {
     "name": "stdout",
     "output_type": "stream",
     "text": [
      "A: [[1. 1. 1. 1.]\n",
      " [1. 1. 1. 1.]\n",
      " [1. 1. 1. 1.]] \n",
      " B: [[0. 0. 0. 0.]\n",
      " [0. 0. 0. 0.]]\n",
      "After applying vstack :\n",
      " [[1. 1. 1. 1.]\n",
      " [1. 1. 1. 1.]\n",
      " [1. 1. 1. 1.]\n",
      " [0. 0. 0. 0.]\n",
      " [0. 0. 0. 0.]]\n"
     ]
    }
   ],
   "source": [
    "A = np.ones((3,4))\n",
    "B = np.zeros((2,4))\n",
    "print(\"A:\",A,\"\\n\",\"B:\",B)\n",
    "vstack = np.vstack((A,B))\n",
    "print(\"After applying vstack :\\n\",vstack)"
   ]
  },
  {
   "cell_type": "markdown",
   "id": "c01cc8d1",
   "metadata": {},
   "source": [
    "**numpy Split : vSplit and hSplit**\n",
    "\n",
    "numpy.vsplit is a special case of split() function where axis is 1 indicating a vertical split regardless of the dimension of the input array. The following example makes this clear."
   ]
  },
  {
   "cell_type": "code",
   "execution_count": 13,
   "id": "4a4e1332",
   "metadata": {},
   "outputs": [
    {
     "name": "stdout",
     "output_type": "stream",
     "text": [
      "First array:\n",
      "[[ 0  1  2  3]\n",
      " [ 4  5  6  7]\n",
      " [ 8  9 10 11]\n",
      " [12 13 14 15]]\n",
      "\n",
      "\n",
      "Vertical splitting:\n",
      "[array([[0, 1, 2, 3],\n",
      "       [4, 5, 6, 7]]), array([[ 8,  9, 10, 11],\n",
      "       [12, 13, 14, 15]])]\n"
     ]
    }
   ],
   "source": [
    "import numpy as np \n",
    "a = np.arange(16).reshape(4,4) \n",
    "\n",
    "print( 'First array:' )\n",
    "print( a) \n",
    "print ('\\n')\n",
    "\n",
    "print( 'Vertical splitting:' )\n",
    "b = np.vsplit(a,2) \n",
    "print(b)"
   ]
  },
  {
   "cell_type": "markdown",
   "id": "c58858d6",
   "metadata": {},
   "source": [
    "numpy.hsplit() function split an array into multiple sub-arrays horizontally (column-wise). hsplit is equivalent to split with axis=1, the array is always split along the second axis regardless of the array dimension.\n",
    "\n",
    "Syntax : numpy.hsplit(arr, indices_or_sections)\n",
    "Parameters :\n",
    "arr : [ndarray] Array to be divided into sub-arrays.\n",
    "indices_or_sections : [int or 1-D array] If indices_or_sections is an integer, N, the array will be divided into N equal arrays along axis.\n",
    "If indices_or_sections is a 1-D array of sorted integers, the entries indicate where along axis the array is split\n",
    "Return : [ndarray] A list of sub-arrays."
   ]
  },
  {
   "cell_type": "code",
   "execution_count": 20,
   "id": "6be3f8d8",
   "metadata": {},
   "outputs": [
    {
     "name": "stdout",
     "output_type": "stream",
     "text": [
      "[[ 0.  1.  2.  3.  4.  5.]\n",
      " [ 6.  7.  8.  9. 10. 11.]\n",
      " [12. 13. 14. 15. 16. 17.]\n",
      " [18. 19. 20. 21. 22. 23.]]\n",
      "[array([[ 0.,  1.,  2.],\n",
      "       [ 6.,  7.,  8.],\n",
      "       [12., 13., 14.],\n",
      "       [18., 19., 20.]]), array([[ 3.,  4.,  5.],\n",
      "       [ 9., 10., 11.],\n",
      "       [15., 16., 17.],\n",
      "       [21., 22., 23.]])]\n"
     ]
    }
   ],
   "source": [
    "# Python program explaining\n",
    "# numpy.hsplit() function\n",
    "\n",
    "# importing numpy as geek\n",
    "import numpy as geek\n",
    "\n",
    "arr = geek.arange(24.0).reshape(4, 6)\n",
    "print(arr)\n",
    "gfg = geek.hsplit(arr, 2)\n",
    "\n",
    "print (gfg)\n"
   ]
  },
  {
   "cell_type": "code",
   "execution_count": 20,
   "id": "d970b5e3",
   "metadata": {},
   "outputs": [
    {
     "name": "stdout",
     "output_type": "stream",
     "text": [
      "Original array :  [[[ 0.  1.  2.]\n",
      "  [ 3.  4.  5.]\n",
      "  [ 6.  7.  8.]]\n",
      "\n",
      " [[ 9. 10. 11.]\n",
      "  [12. 13. 14.]\n",
      "  [15. 16. 17.]]\n",
      "\n",
      " [[18. 19. 20.]\n",
      "  [21. 22. 23.]\n",
      "  [24. 25. 26.]]]\n",
      "[array([[[ 0.,  1.,  2.]],\n",
      "\n",
      "       [[ 9., 10., 11.]],\n",
      "\n",
      "       [[18., 19., 20.]]]), array([[[ 3.,  4.,  5.]],\n",
      "\n",
      "       [[12., 13., 14.]],\n",
      "\n",
      "       [[21., 22., 23.]]]), array([[[ 6.,  7.,  8.]],\n",
      "\n",
      "       [[15., 16., 17.]],\n",
      "\n",
      "       [[24., 25., 26.]]])]\n"
     ]
    }
   ],
   "source": [
    "# Python program explaining\n",
    "# numpy.hsplit() function\n",
    "\n",
    "# importing numpy as geek\n",
    "import numpy as geek\n",
    "\n",
    "arr = geek.arange(27.0).reshape(3, 3, 3)\n",
    "\n",
    "print(\"Original array : \" ,arr)\n",
    "\n",
    "gfg = geek.hsplit(arr, 3)\n",
    "\n",
    "print (gfg)\n"
   ]
  },
  {
   "cell_type": "code",
   "execution_count": null,
   "id": "11d54b10",
   "metadata": {},
   "outputs": [],
   "source": []
  }
 ],
 "metadata": {
  "kernelspec": {
   "display_name": "Python 3 (ipykernel)",
   "language": "python",
   "name": "python3"
  },
  "language_info": {
   "codemirror_mode": {
    "name": "ipython",
    "version": 3
   },
   "file_extension": ".py",
   "mimetype": "text/x-python",
   "name": "python",
   "nbconvert_exporter": "python",
   "pygments_lexer": "ipython3",
   "version": "3.9.6"
  }
 },
 "nbformat": 4,
 "nbformat_minor": 5
}
