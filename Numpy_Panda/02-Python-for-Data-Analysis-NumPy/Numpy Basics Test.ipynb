{
 "cells": [
  {
   "cell_type": "markdown",
   "id": "65d91185",
   "metadata": {},
   "source": [
    "1. How create an empty and full numpy array?"
   ]
  },
  {
   "cell_type": "code",
   "execution_count": 4,
   "id": "1f7a34e9",
   "metadata": {},
   "outputs": [
    {
     "data": {
      "text/plain": [
       "array([[5, 5, 5, 5, 5],\n",
       "       [5, 5, 5, 5, 5],\n",
       "       [5, 5, 5, 5, 5],\n",
       "       [5, 5, 5, 5, 5]])"
      ]
     },
     "execution_count": 4,
     "metadata": {},
     "output_type": "execute_result"
    }
   ],
   "source": [
    "import numpy as np\n",
    "arr =  np.empty((2,2))\n",
    "arr\n",
    "\n",
    "np.full((4,5),5)"
   ]
  },
  {
   "cell_type": "markdown",
   "id": "861bacbf",
   "metadata": {},
   "source": [
    "2. Create a numpy array filled with all zeroes \n"
   ]
  },
  {
   "cell_type": "code",
   "execution_count": 6,
   "id": "692b453f",
   "metadata": {},
   "outputs": [
    {
     "data": {
      "text/plain": [
       "array([[0., 0., 0.],\n",
       "       [0., 0., 0.],\n",
       "       [0., 0., 0.]])"
      ]
     },
     "execution_count": 6,
     "metadata": {},
     "output_type": "execute_result"
    }
   ],
   "source": [
    "np.zeros((3,3))"
   ]
  },
  {
   "cell_type": "markdown",
   "id": "a3b1c24c",
   "metadata": {},
   "source": [
    " 3. How to Extract items that satisfy a given condition from 1D Array.\n",
    " \n",
    "    arr = np.array([0,1,2,3,4,5,6,7,8,9])\n",
    "    \n",
    "    output = array([1,3,5,7,9])"
   ]
  },
  {
   "cell_type": "code",
   "execution_count": 8,
   "id": "baae490c",
   "metadata": {},
   "outputs": [
    {
     "data": {
      "text/plain": [
       "array([1, 3, 5, 7, 9])"
      ]
     },
     "execution_count": 8,
     "metadata": {},
     "output_type": "execute_result"
    }
   ],
   "source": [
    "arr = np.array([0,1,2,3,4,5,6,7,8,9])\n",
    "arr[arr%2==1]"
   ]
  },
  {
   "cell_type": "markdown",
   "id": "a2b45773",
   "metadata": {},
   "source": [
    "4. Replace all odd numbers in array with -1   (without changing the original array !optional )  \n",
    "   arr = np.array([0,1,2,3,4,5,6,7,8,9])\n",
    "    \n",
    "    output = array([0,-1,2,-1,4,-1,6,-1,8,-1])"
   ]
  },
  {
   "cell_type": "code",
   "execution_count": 10,
   "id": "e9b8d035",
   "metadata": {},
   "outputs": [
    {
     "data": {
      "text/plain": [
       "array([ 0, -1,  2, -1,  4, -1,  6, -1,  8, -1])"
      ]
     },
     "execution_count": 10,
     "metadata": {},
     "output_type": "execute_result"
    }
   ],
   "source": [
    "arr[arr%2==1] = -1\n",
    "arr"
   ]
  },
  {
   "cell_type": "code",
   "execution_count": 14,
   "id": "5c3b1dbb",
   "metadata": {},
   "outputs": [
    {
     "name": "stdout",
     "output_type": "stream",
     "text": [
      "Modified array is  [ 0 -1  2 -1  4 -1  6 -1  8 -1]\n",
      "Original array is  [0 1 2 3 4 5 6 7 8 9]\n"
     ]
    }
   ],
   "source": [
    "arr1 = np.arange(10)\n",
    "out = np.where(arr1%2==1,-1,arr1)\n",
    "print(\"Modified array is \" , out)\n",
    "print(\"Original array is \" , arr1)"
   ]
  },
  {
   "cell_type": "markdown",
   "id": "3462f279",
   "metadata": {},
   "source": [
    "5. How to Generate Custom sequences in numpy without hardcoding.\n",
    "   a = np.array([1,2,3])\n",
    "   \n",
    "   output = array([1,1,1,2,2,2,3,3,3,1,2,3,1,2,3,1,2,3"
   ]
  },
  {
   "cell_type": "code",
   "execution_count": null,
   "id": "d23804fe",
   "metadata": {},
   "outputs": [],
   "source": []
  },
  {
   "cell_type": "markdown",
   "id": "b2079bfc",
   "metadata": {},
   "source": [
    "6. Get the common items between array A and B\n",
    "   input:\n",
    "      a = [1,2,3,2,3,4,3,4,5,6]\n",
    "      b = [7,2,10,2,7,4,9,4,9,8]\n",
    "      \n",
    "   output: \n",
    "       [2,4]"
   ]
  }
 ],
 "metadata": {
  "kernelspec": {
   "display_name": "Python 3 (ipykernel)",
   "language": "python",
   "name": "python3"
  },
  "language_info": {
   "codemirror_mode": {
    "name": "ipython",
    "version": 3
   },
   "file_extension": ".py",
   "mimetype": "text/x-python",
   "name": "python",
   "nbconvert_exporter": "python",
   "pygments_lexer": "ipython3",
   "version": "3.9.6"
  }
 },
 "nbformat": 4,
 "nbformat_minor": 5
}
