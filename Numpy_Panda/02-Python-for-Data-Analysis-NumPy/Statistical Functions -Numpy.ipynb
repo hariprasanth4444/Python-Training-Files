{
 "cells": [
  {
   "cell_type": "markdown",
   "id": "a7cf7001",
   "metadata": {},
   "source": [
    "# Statistical Functions -Numpy\n",
    "Numpy has very useful functions for finding minimum , maximum precentile, standard deviation and variance etc....\n",
    "\n",
    "numpy.amin()\n",
    "\n",
    "numpy.amax()"
   ]
  },
  {
   "cell_type": "code",
   "execution_count": 3,
   "id": "9a7b0080",
   "metadata": {},
   "outputs": [
    {
     "name": "stdout",
     "output_type": "stream",
     "text": [
      "Our array...\n",
      "[[3 4 5]\n",
      " [8 4 3]\n",
      " [2 4 9]]\n",
      "Applying min functions....\n",
      "[3 3 2]\n",
      "Applying min function columns wise...\n",
      "[2 4 3]\n",
      "applying max function...\n",
      "[8 4 9]\n"
     ]
    }
   ],
   "source": [
    "import numpy as np\n",
    "a = np.array([[3,4,5],[8,4,3],[2,4,9]])\n",
    "print(\"Our array...\")\n",
    "print(a)\n",
    "\n",
    "print(\"Applying min functions....\")\n",
    "print(np.amin(a,1))\n",
    "\n",
    "print(\"Applying min function columns wise...\")\n",
    "print(np.amin(a,0))\n",
    "\n",
    "print(\"applying max function...\")\n",
    "print(np.amax(a,axis=0))"
   ]
  },
  {
   "cell_type": "markdown",
   "id": "ad338d0a",
   "metadata": {},
   "source": [
    "numpy.ptp()\n",
    "\n",
    "It returns the range (max-min) of values along an axis"
   ]
  },
  {
   "cell_type": "code",
   "execution_count": 7,
   "id": "6c22060a",
   "metadata": {},
   "outputs": [
    {
     "name": "stdout",
     "output_type": "stream",
     "text": [
      "[[3 4 5]\n",
      " [8 4 3]\n",
      " [2 4 9]]\n",
      "Overall in matrix : 7\n",
      "Row wise : [2 5 7]\n",
      "Column wise : [6 0 6]\n"
     ]
    }
   ],
   "source": [
    "a = np.array([[3,4,5],[8,4,3],[2,4,9]])\n",
    "print(a)\n",
    "print(\"Overall in matrix :\" , np.ptp(a))\n",
    "print(\"Row wise :\" ,np.ptp(a,axis=1))\n",
    "print(\"Column wise :\" ,np.ptp(a,axis=0))"
   ]
  },
  {
   "cell_type": "markdown",
   "id": "d74d80d1",
   "metadata": {},
   "source": [
    "# np.percentile()\n",
    "It is a measure used in statistics indicating the value below which a given pecentage of observations in a group of observartions fall.\n",
    "\n",
    "syntax\n",
    "   numpy.percentile(a,q,axis) where a=input array, q= the percentile to calculate,axis = row, columns"
   ]
  },
  {
   "cell_type": "code",
   "execution_count": 11,
   "id": "40711a9c",
   "metadata": {},
   "outputs": [
    {
     "name": "stdout",
     "output_type": "stream",
     "text": [
      "Our array...\n",
      "[20  2  7  1 34]\n",
      "applying percentile...\n",
      "7.0\n",
      "20.0\n"
     ]
    }
   ],
   "source": [
    "a = np.array([20,2,7,1,34])\n",
    "print(\"Our array...\")\n",
    "print(a)\n",
    "\n",
    "print(\"applying percentile...\")\n",
    "print(np.percentile(a,50))\n",
    "\n",
    "print(np.percentile(a,75))"
   ]
  },
  {
   "cell_type": "markdown",
   "id": "d89cf544",
   "metadata": {},
   "source": [
    "# numpy.median()\n",
    "\n",
    "its defined as value separating the higher half of data sample from the lower half"
   ]
  },
  {
   "cell_type": "code",
   "execution_count": 12,
   "id": "4835a27c",
   "metadata": {},
   "outputs": [
    {
     "name": "stdout",
     "output_type": "stream",
     "text": [
      "Our array...\n",
      "[[30 40 50]\n",
      " [80 40 30]\n",
      " [20 40 90]]\n",
      "Applying median...\n",
      "40.0\n",
      "Applying it on columns...\n",
      "[30. 40. 50.]\n"
     ]
    }
   ],
   "source": [
    "a = np.array([[30,40,50],[80,40,30],[20,40,90]])\n",
    "print(\"Our array...\")\n",
    "print(a)\n",
    "\n",
    "print(\"Applying median...\")\n",
    "print(np.median(a))\n",
    "\n",
    "print(\"Applying it on columns...\")\n",
    "print(np.median(a,0))\n",
    "\n",
    "#20 30 30 40 40 40 50 80 90"
   ]
  },
  {
   "cell_type": "markdown",
   "id": "60c49cbd",
   "metadata": {},
   "source": [
    "# numpy.mean()\n",
    "\n",
    "It is the sum of elements along an axis divided by the number of elements"
   ]
  },
  {
   "cell_type": "code",
   "execution_count": 2,
   "id": "12438908",
   "metadata": {},
   "outputs": [
    {
     "name": "stdout",
     "output_type": "stream",
     "text": [
      "Our array...\n",
      "[[30 40 50]\n",
      " [80 40 30]\n",
      " [20 40 90]]\n",
      "Applying mean over rows...\n",
      "[40. 50. 50.]\n"
     ]
    }
   ],
   "source": [
    "import numpy as np\n",
    "a = np.array([[30,40,50],[80,40,30],[20,40,90]])\n",
    "print(\"Our array...\")\n",
    "print(a)\n",
    "\n",
    "print(\"Applying mean over rows...\")\n",
    "print(np.mean(a,1))"
   ]
  },
  {
   "cell_type": "code",
   "execution_count": null,
   "id": "98c93464",
   "metadata": {},
   "outputs": [],
   "source": []
  }
 ],
 "metadata": {
  "kernelspec": {
   "display_name": "Python 3 (ipykernel)",
   "language": "python",
   "name": "python3"
  },
  "language_info": {
   "codemirror_mode": {
    "name": "ipython",
    "version": 3
   },
   "file_extension": ".py",
   "mimetype": "text/x-python",
   "name": "python",
   "nbconvert_exporter": "python",
   "pygments_lexer": "ipython3",
   "version": "3.9.6"
  }
 },
 "nbformat": 4,
 "nbformat_minor": 5
}
