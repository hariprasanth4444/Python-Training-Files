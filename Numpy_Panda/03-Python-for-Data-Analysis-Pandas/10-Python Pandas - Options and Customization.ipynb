{
 "cells": [
  {
   "cell_type": "markdown",
   "id": "049a82b1",
   "metadata": {},
   "source": [
    "Pandas provide API to customize some aspects of its behavior, display is being mostly used.\n",
    "\n",
    "The API is composed of five relevant functions. They are −\n",
    "\n",
    "get_option()\n",
    "\n",
    "set_option()\n",
    "\n",
    "reset_option()\n",
    "\n",
    "describe_option()\n",
    "\n",
    "option_context()\n",
    "\n",
    "Let us now understand how the functions operate.\n",
    "\n",
    "get_option(param)\n",
    "\n",
    "get_option takes a single parameter and returns the value as given in the output below −\n",
    "\n",
    "display.max_rows\n",
    "\n",
    "Displays the default number of value. Interpreter reads this value and displays the rows with this value as upper limit to display.\n"
   ]
  },
  {
   "cell_type": "code",
   "execution_count": 1,
   "id": "38540d5d",
   "metadata": {},
   "outputs": [
    {
     "name": "stdout",
     "output_type": "stream",
     "text": [
      "60\n"
     ]
    }
   ],
   "source": [
    "import pandas as pd\n",
    "print(pd.get_option(\"display.max_rows\"))"
   ]
  },
  {
   "cell_type": "markdown",
   "id": "0b3acac2",
   "metadata": {},
   "source": [
    "display.max_columns\n",
    "\n",
    "Displays the default number of value. Interpreter reads this value and displays the rows with this value as upper limit to display."
   ]
  },
  {
   "cell_type": "code",
   "execution_count": 2,
   "id": "cd54c412",
   "metadata": {},
   "outputs": [
    {
     "data": {
      "text/plain": [
       "20"
      ]
     },
     "execution_count": 2,
     "metadata": {},
     "output_type": "execute_result"
    }
   ],
   "source": [
    "import pandas as pd\n",
    "pd.get_option(\"display.max_columns\")"
   ]
  },
  {
   "cell_type": "markdown",
   "id": "51762f5a",
   "metadata": {},
   "source": [
    "set_option(param,value)\n",
    "\n",
    "set_option takes two arguments and sets the value to the parameter as shown below −\n",
    "\n",
    "display.max_rows\n",
    "\n",
    "Using set_option(), we can change the default number of rows to be displayed."
   ]
  },
  {
   "cell_type": "code",
   "execution_count": 3,
   "id": "7ae64962",
   "metadata": {},
   "outputs": [
    {
     "data": {
      "text/plain": [
       "80"
      ]
     },
     "execution_count": 3,
     "metadata": {},
     "output_type": "execute_result"
    }
   ],
   "source": [
    "import pandas as pd\n",
    "\n",
    "pd.set_option(\"display.max_rows\",80)\n",
    "\n",
    "pd.get_option(\"display.max_rows\")"
   ]
  },
  {
   "cell_type": "markdown",
   "id": "ed796d69",
   "metadata": {},
   "source": [
    "display.max_columns\n",
    "\n",
    "Using set_option(), we can change the default number of rows to be displayed."
   ]
  },
  {
   "cell_type": "code",
   "execution_count": 4,
   "id": "de76800f",
   "metadata": {},
   "outputs": [
    {
     "data": {
      "text/plain": [
       "30"
      ]
     },
     "execution_count": 4,
     "metadata": {},
     "output_type": "execute_result"
    }
   ],
   "source": [
    "import pandas as pd\n",
    "\n",
    "pd.set_option(\"display.max_columns\",30)\n",
    "\n",
    "pd.get_option(\"display.max_columns\")"
   ]
  },
  {
   "cell_type": "markdown",
   "id": "51127eff",
   "metadata": {},
   "source": [
    "reset_option(param)\n",
    "\n",
    "reset_option takes an argument and sets the value back to the default value.\n",
    "\n",
    "display.max_rows\n",
    "\n",
    "Using reset_option(), we can change the value back to the default number of rows to be displayed."
   ]
  },
  {
   "cell_type": "code",
   "execution_count": 5,
   "id": "c0797fdc",
   "metadata": {},
   "outputs": [
    {
     "data": {
      "text/plain": [
       "60"
      ]
     },
     "execution_count": 5,
     "metadata": {},
     "output_type": "execute_result"
    }
   ],
   "source": [
    "import pandas as pd\n",
    "\n",
    "pd.reset_option(\"display.max_rows\")\n",
    "pd.get_option(\"display.max_rows\")"
   ]
  },
  {
   "cell_type": "markdown",
   "id": "7891a786",
   "metadata": {},
   "source": [
    "describe_option(param)\n",
    "\n",
    "describe_option prints the description of the argument.\n",
    "\n",
    "display.max_rows\n",
    "\n",
    "Using reset_option(), we can change the value back to the default number of rows to be displayed."
   ]
  },
  {
   "cell_type": "code",
   "execution_count": 6,
   "id": "f4118324",
   "metadata": {},
   "outputs": [
    {
     "name": "stdout",
     "output_type": "stream",
     "text": [
      "display.max_rows : int\n",
      "    If max_rows is exceeded, switch to truncate view. Depending on\n",
      "    `large_repr`, objects are either centrally truncated or printed as\n",
      "    a summary view. 'None' value means unlimited.\n",
      "\n",
      "    In case python/IPython is running in a terminal and `large_repr`\n",
      "    equals 'truncate' this can be set to 0 and pandas will auto-detect\n",
      "    the height of the terminal and print a truncated object which fits\n",
      "    the screen height. The IPython notebook, IPython qtconsole, or\n",
      "    IDLE do not run in a terminal and hence it is not possible to do\n",
      "    correct auto-detection.\n",
      "    [default: 60] [currently: 60]\n"
     ]
    }
   ],
   "source": [
    "import pandas as pd\n",
    "pd.describe_option(\"display.max_rows\")"
   ]
  },
  {
   "cell_type": "markdown",
   "id": "f185c755",
   "metadata": {},
   "source": [
    "option_context()\n",
    "\n",
    "option_context context manager is used to set the option in with statement temporarily. Option values are restored automatically when you exit the with block −\n",
    "\n",
    "display.max_rows\n",
    "\n",
    "Using option_context(), we can set the value temporarily."
   ]
  },
  {
   "cell_type": "code",
   "execution_count": 7,
   "id": "ec338bc1",
   "metadata": {},
   "outputs": [
    {
     "name": "stdout",
     "output_type": "stream",
     "text": [
      "10\n",
      "60\n"
     ]
    }
   ],
   "source": [
    "import pandas as pd\n",
    "with pd.option_context(\"display.max_rows\",10):\n",
    "    print(pd.get_option(\"display.max_rows\"))\n",
    "print(pd.get_option(\"display.max_rows\"))"
   ]
  },
  {
   "cell_type": "markdown",
   "id": "faa70858",
   "metadata": {},
   "source": [
    "See, the difference between the first and the second print statements. The first statement prints the value set by option_context() which is temporary within the with context itself. After the with context, the second print statement prints the configured value."
   ]
  },
  {
   "cell_type": "markdown",
   "id": "15b2d9e9",
   "metadata": {},
   "source": [
    "Frequently used Parameters\n",
    "\n",
    "1\t\n",
    "display.max_rows\n",
    "\n",
    "Displays maximum number of rows to display\n",
    "\n",
    "2\t\n",
    "2 display.max_columns\n",
    "\n",
    "Displays maximum number of columns to display\n",
    "\n",
    "3\t\n",
    "display.expand_frame_repr\n",
    "\n",
    "Displays DataFrames to Stretch Pages\n",
    "\n",
    "4\t\n",
    "display.max_colwidth\n",
    "\n",
    "Displays maximum column width\n",
    "\n",
    "5\t\n",
    "display.precision\n",
    "\n",
    "Displays precision for decimal numbers"
   ]
  },
  {
   "cell_type": "code",
   "execution_count": null,
   "id": "9779caad",
   "metadata": {},
   "outputs": [],
   "source": []
  }
 ],
 "metadata": {
  "kernelspec": {
   "display_name": "Python 3 (ipykernel)",
   "language": "python",
   "name": "python3"
  },
  "language_info": {
   "codemirror_mode": {
    "name": "ipython",
    "version": 3
   },
   "file_extension": ".py",
   "mimetype": "text/x-python",
   "name": "python",
   "nbconvert_exporter": "python",
   "pygments_lexer": "ipython3",
   "version": "3.9.6"
  }
 },
 "nbformat": 4,
 "nbformat_minor": 5
}
