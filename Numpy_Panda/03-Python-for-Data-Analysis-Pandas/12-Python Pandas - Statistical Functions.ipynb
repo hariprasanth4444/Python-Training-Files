{
 "cells": [
  {
   "cell_type": "markdown",
   "id": "0bfabd4d",
   "metadata": {},
   "source": [
    "Statistical methods help in the understanding and analyzing the behavior of data. We will now learn a few statistical functions, which we can apply on Pandas objects.\n",
    "\n"
   ]
  },
  {
   "cell_type": "markdown",
   "id": "532ee2da",
   "metadata": {},
   "source": [
    "# Percent_change\n",
    "\n",
    "Series, DatFrames and Panel, all have the function pct_change(). This function compares every element with its prior element and computes the change percentage."
   ]
  },
  {
   "cell_type": "code",
   "execution_count": 2,
   "id": "01d73f5f",
   "metadata": {},
   "outputs": [
    {
     "name": "stdout",
     "output_type": "stream",
     "text": [
      "0         NaN\n",
      "1    1.000000\n",
      "2    0.500000\n",
      "3    0.333333\n",
      "4    0.250000\n",
      "5   -0.200000\n",
      "dtype: float64\n"
     ]
    },
    {
     "data": {
      "text/html": [
       "<div>\n",
       "<style scoped>\n",
       "    .dataframe tbody tr th:only-of-type {\n",
       "        vertical-align: middle;\n",
       "    }\n",
       "\n",
       "    .dataframe tbody tr th {\n",
       "        vertical-align: top;\n",
       "    }\n",
       "\n",
       "    .dataframe thead th {\n",
       "        text-align: right;\n",
       "    }\n",
       "</style>\n",
       "<table border=\"1\" class=\"dataframe\">\n",
       "  <thead>\n",
       "    <tr style=\"text-align: right;\">\n",
       "      <th></th>\n",
       "      <th>0</th>\n",
       "      <th>1</th>\n",
       "    </tr>\n",
       "  </thead>\n",
       "  <tbody>\n",
       "    <tr>\n",
       "      <th>0</th>\n",
       "      <td>NaN</td>\n",
       "      <td>1.969364</td>\n",
       "    </tr>\n",
       "    <tr>\n",
       "      <th>1</th>\n",
       "      <td>NaN</td>\n",
       "      <td>-0.589671</td>\n",
       "    </tr>\n",
       "    <tr>\n",
       "      <th>2</th>\n",
       "      <td>NaN</td>\n",
       "      <td>3.931782</td>\n",
       "    </tr>\n",
       "    <tr>\n",
       "      <th>3</th>\n",
       "      <td>NaN</td>\n",
       "      <td>-1.816564</td>\n",
       "    </tr>\n",
       "    <tr>\n",
       "      <th>4</th>\n",
       "      <td>NaN</td>\n",
       "      <td>-0.382268</td>\n",
       "    </tr>\n",
       "  </tbody>\n",
       "</table>\n",
       "</div>"
      ],
      "text/plain": [
       "    0         1\n",
       "0 NaN  1.969364\n",
       "1 NaN -0.589671\n",
       "2 NaN  3.931782\n",
       "3 NaN -1.816564\n",
       "4 NaN -0.382268"
      ]
     },
     "execution_count": 2,
     "metadata": {},
     "output_type": "execute_result"
    }
   ],
   "source": [
    "import pandas as pd\n",
    "import numpy as np\n",
    "s = pd.Series([1,2,3,4,5,4])\n",
    "print(s.pct_change())\n",
    "\n",
    "df = pd.DataFrame(np.random.randn(5, 2))\n",
    "df.pct_change(axis=1)"
   ]
  },
  {
   "cell_type": "markdown",
   "id": "bd7905b2",
   "metadata": {},
   "source": [
    "By default, the pct_change() operates on columns; if you want to apply the same row wise, then use axis=1() argument."
   ]
  },
  {
   "cell_type": "markdown",
   "id": "319947fe",
   "metadata": {},
   "source": [
    "# Covariance\n",
    "Covariance is applied on series data. The Series object has a method cov to compute covariance between series objects. NA will be excluded automatically."
   ]
  },
  {
   "cell_type": "code",
   "execution_count": 3,
   "id": "e4ef0e64",
   "metadata": {},
   "outputs": [
    {
     "data": {
      "text/plain": [
       "-0.268789680155105"
      ]
     },
     "execution_count": 3,
     "metadata": {},
     "output_type": "execute_result"
    }
   ],
   "source": [
    "#Cov Series\n",
    " \n",
    "import pandas as pd\n",
    "import numpy as np\n",
    "s1 = pd.Series(np.random.randn(10))\n",
    "s2 = pd.Series(np.random.randn(10))\n",
    "s1.cov(s2)"
   ]
  },
  {
   "cell_type": "markdown",
   "id": "c3dfdba3",
   "metadata": {},
   "source": [
    "Covariance method when applied on a DataFrame, computes cov between all the columns."
   ]
  },
  {
   "cell_type": "code",
   "execution_count": 4,
   "id": "7baf293e",
   "metadata": {},
   "outputs": [
    {
     "name": "stdout",
     "output_type": "stream",
     "text": [
      "0.0595349642574335\n",
      "          a         b         c         d         e\n",
      "a  0.896929  0.059535  0.293494  0.146922 -0.053572\n",
      "b  0.059535  0.275797  0.071105  0.058189 -0.069838\n",
      "c  0.293494  0.071105  0.799903 -0.186835 -0.117847\n",
      "d  0.146922  0.058189 -0.186835  0.336709  0.085880\n",
      "e -0.053572 -0.069838 -0.117847  0.085880  0.691008\n"
     ]
    }
   ],
   "source": [
    "import pandas as pd\n",
    "import numpy as np\n",
    "frame = pd.DataFrame(np.random.randn(10, 5), columns=['a', 'b', 'c', 'd', 'e'])\n",
    "print(frame['a'].cov(frame['b']))\n",
    "print(frame.cov())"
   ]
  },
  {
   "cell_type": "markdown",
   "id": "5df29b28",
   "metadata": {},
   "source": [
    "Note − Observe the cov between a and b column in the first statement and the same is the value returned by cov on DataFrame."
   ]
  },
  {
   "cell_type": "markdown",
   "id": "f25644c3",
   "metadata": {},
   "source": [
    "# Correlation\n",
    "Correlation shows the linear relationship between any two array of values (series). There are multiple methods to compute the correlation like pearson(default), spearman and kendall."
   ]
  },
  {
   "cell_type": "code",
   "execution_count": 5,
   "id": "493202a3",
   "metadata": {},
   "outputs": [
    {
     "name": "stdout",
     "output_type": "stream",
     "text": [
      "0.5550596610077916\n",
      "          a         b         c         d         e\n",
      "a  1.000000  0.555060  0.138750 -0.285901 -0.080175\n",
      "b  0.555060  1.000000 -0.446502 -0.562767  0.148401\n",
      "c  0.138750 -0.446502  1.000000  0.328998 -0.123943\n",
      "d -0.285901 -0.562767  0.328998  1.000000  0.400317\n",
      "e -0.080175  0.148401 -0.123943  0.400317  1.000000\n"
     ]
    }
   ],
   "source": [
    "import pandas as pd\n",
    "import numpy as np\n",
    "frame = pd.DataFrame(np.random.randn(10, 5), columns=['a', 'b', 'c', 'd', 'e'])\n",
    "\n",
    "print(frame['a'].corr(frame['b']))\n",
    "print( frame.corr())"
   ]
  },
  {
   "cell_type": "markdown",
   "id": "b5aefa63",
   "metadata": {},
   "source": [
    "If any non-numeric column is present in the DataFrame, it is excluded automatically."
   ]
  },
  {
   "cell_type": "markdown",
   "id": "28bda57f",
   "metadata": {},
   "source": [
    "# Data Ranking\n",
    "Data Ranking produces ranking for each element in the array of elements. In case of ties, assigns the mean rank."
   ]
  },
  {
   "cell_type": "code",
   "execution_count": 6,
   "id": "0efdfb72",
   "metadata": {},
   "outputs": [
    {
     "name": "stdout",
     "output_type": "stream",
     "text": [
      "a    0.913427\n",
      "b    1.594444\n",
      "c   -1.869449\n",
      "d   -1.548400\n",
      "e    1.338800\n",
      "dtype: float64\n"
     ]
    },
    {
     "data": {
      "text/plain": [
       "a    2.0\n",
       "b    4.5\n",
       "c    1.0\n",
       "d    4.5\n",
       "e    3.0\n",
       "dtype: float64"
      ]
     },
     "execution_count": 6,
     "metadata": {},
     "output_type": "execute_result"
    }
   ],
   "source": [
    "import pandas as pd\n",
    "import numpy as np\n",
    "\n",
    "s = pd.Series(np.random.randn(5), index=list('abcde'))\n",
    "print(s)\n",
    "s['d'] = s['b'] # so there's a tie\n",
    "s.rank()"
   ]
  },
  {
   "cell_type": "markdown",
   "id": "0154826a",
   "metadata": {},
   "source": [
    "Rank optionally takes a parameter ascending which by default is true; when false, data is reverse-ranked, with larger values assigned a smaller rank.\n",
    "\n",
    "Rank supports different tie-breaking methods, specified with the method parameter −\n",
    "\n",
    "average − average rank of tied group\n",
    "\n",
    "min − lowest rank in the group\n",
    "\n",
    "max − highest rank in the group\n",
    "\n",
    "first − ranks assigned in the order they appear in the array"
   ]
  },
  {
   "cell_type": "code",
   "execution_count": null,
   "id": "c15688cd",
   "metadata": {},
   "outputs": [],
   "source": []
  }
 ],
 "metadata": {
  "kernelspec": {
   "display_name": "Python 3 (ipykernel)",
   "language": "python",
   "name": "python3"
  },
  "language_info": {
   "codemirror_mode": {
    "name": "ipython",
    "version": 3
   },
   "file_extension": ".py",
   "mimetype": "text/x-python",
   "name": "python",
   "nbconvert_exporter": "python",
   "pygments_lexer": "ipython3",
   "version": "3.9.6"
  }
 },
 "nbformat": 4,
 "nbformat_minor": 5
}
