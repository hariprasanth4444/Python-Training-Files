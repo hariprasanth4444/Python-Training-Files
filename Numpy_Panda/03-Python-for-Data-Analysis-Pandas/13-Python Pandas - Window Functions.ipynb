{
 "cells": [
  {
   "cell_type": "markdown",
   "id": "a9f1ffde",
   "metadata": {},
   "source": [
    "For working on numerical data, Pandas provide few variants like rolling, expanding and exponentially moving weights for window statistics. Among these are sum, mean, median, variance, covariance, correlation, etc.\n",
    "\n",
    "We will now learn how each of these can be applied on DataFrame objects."
   ]
  },
  {
   "cell_type": "markdown",
   "id": "b16251bb",
   "metadata": {},
   "source": [
    "# .rolling() Function\n",
    "This function can be applied on a series of data. Specify the window=n argument and apply the appropriate statistical function on top of it."
   ]
  },
  {
   "cell_type": "code",
   "execution_count": 8,
   "id": "7a9477d4",
   "metadata": {},
   "outputs": [
    {
     "name": "stdout",
     "output_type": "stream",
     "text": [
      "Original Data Frame :\n",
      "             A  B  C  D\n",
      "2000-01-01  7  8  0  5\n",
      "2000-01-02  2  4  3  3\n",
      "2000-01-03  6  8  4  8\n",
      "2000-01-04  3  7  2  7\n",
      "2000-01-05  2  9  4  7\n",
      "2000-01-06  3  3  0  5\n",
      "2000-01-07  2  6  3  9\n",
      "2000-01-08  2  7  5  1\n",
      "2000-01-09  7  7  6  3\n",
      "2000-01-10  9  5  6  4\n"
     ]
    },
    {
     "data": {
      "text/html": [
       "<div>\n",
       "<style scoped>\n",
       "    .dataframe tbody tr th:only-of-type {\n",
       "        vertical-align: middle;\n",
       "    }\n",
       "\n",
       "    .dataframe tbody tr th {\n",
       "        vertical-align: top;\n",
       "    }\n",
       "\n",
       "    .dataframe thead th {\n",
       "        text-align: right;\n",
       "    }\n",
       "</style>\n",
       "<table border=\"1\" class=\"dataframe\">\n",
       "  <thead>\n",
       "    <tr style=\"text-align: right;\">\n",
       "      <th></th>\n",
       "      <th>A</th>\n",
       "      <th>B</th>\n",
       "      <th>C</th>\n",
       "      <th>D</th>\n",
       "    </tr>\n",
       "  </thead>\n",
       "  <tbody>\n",
       "    <tr>\n",
       "      <th>2000-01-01</th>\n",
       "      <td>NaN</td>\n",
       "      <td>NaN</td>\n",
       "      <td>NaN</td>\n",
       "      <td>NaN</td>\n",
       "    </tr>\n",
       "    <tr>\n",
       "      <th>2000-01-02</th>\n",
       "      <td>NaN</td>\n",
       "      <td>NaN</td>\n",
       "      <td>NaN</td>\n",
       "      <td>NaN</td>\n",
       "    </tr>\n",
       "    <tr>\n",
       "      <th>2000-01-03</th>\n",
       "      <td>5.000000</td>\n",
       "      <td>6.666667</td>\n",
       "      <td>2.333333</td>\n",
       "      <td>5.333333</td>\n",
       "    </tr>\n",
       "    <tr>\n",
       "      <th>2000-01-04</th>\n",
       "      <td>3.666667</td>\n",
       "      <td>6.333333</td>\n",
       "      <td>3.000000</td>\n",
       "      <td>6.000000</td>\n",
       "    </tr>\n",
       "    <tr>\n",
       "      <th>2000-01-05</th>\n",
       "      <td>3.666667</td>\n",
       "      <td>8.000000</td>\n",
       "      <td>3.333333</td>\n",
       "      <td>7.333333</td>\n",
       "    </tr>\n",
       "    <tr>\n",
       "      <th>2000-01-06</th>\n",
       "      <td>2.666667</td>\n",
       "      <td>6.333333</td>\n",
       "      <td>2.000000</td>\n",
       "      <td>6.333333</td>\n",
       "    </tr>\n",
       "    <tr>\n",
       "      <th>2000-01-07</th>\n",
       "      <td>2.333333</td>\n",
       "      <td>6.000000</td>\n",
       "      <td>2.333333</td>\n",
       "      <td>7.000000</td>\n",
       "    </tr>\n",
       "    <tr>\n",
       "      <th>2000-01-08</th>\n",
       "      <td>2.333333</td>\n",
       "      <td>5.333333</td>\n",
       "      <td>2.666667</td>\n",
       "      <td>5.000000</td>\n",
       "    </tr>\n",
       "    <tr>\n",
       "      <th>2000-01-09</th>\n",
       "      <td>3.666667</td>\n",
       "      <td>6.666667</td>\n",
       "      <td>4.666667</td>\n",
       "      <td>4.333333</td>\n",
       "    </tr>\n",
       "    <tr>\n",
       "      <th>2000-01-10</th>\n",
       "      <td>6.000000</td>\n",
       "      <td>6.333333</td>\n",
       "      <td>5.666667</td>\n",
       "      <td>2.666667</td>\n",
       "    </tr>\n",
       "  </tbody>\n",
       "</table>\n",
       "</div>"
      ],
      "text/plain": [
       "                   A         B         C         D\n",
       "2000-01-01       NaN       NaN       NaN       NaN\n",
       "2000-01-02       NaN       NaN       NaN       NaN\n",
       "2000-01-03  5.000000  6.666667  2.333333  5.333333\n",
       "2000-01-04  3.666667  6.333333  3.000000  6.000000\n",
       "2000-01-05  3.666667  8.000000  3.333333  7.333333\n",
       "2000-01-06  2.666667  6.333333  2.000000  6.333333\n",
       "2000-01-07  2.333333  6.000000  2.333333  7.000000\n",
       "2000-01-08  2.333333  5.333333  2.666667  5.000000\n",
       "2000-01-09  3.666667  6.666667  4.666667  4.333333\n",
       "2000-01-10  6.000000  6.333333  5.666667  2.666667"
      ]
     },
     "execution_count": 8,
     "metadata": {},
     "output_type": "execute_result"
    }
   ],
   "source": [
    "import pandas as pd\n",
    "import numpy as np\n",
    "\n",
    "df = pd.DataFrame(np.random.randint(10,size=(10, 4)),\n",
    "index = pd.date_range('1/1/2000', periods=10),columns = ['A', 'B', 'C', 'D'])\n",
    "print(\"Original Data Frame :\\n\", df)\n",
    "df.rolling(window=3).mean()"
   ]
  },
  {
   "cell_type": "markdown",
   "id": "d7fd0c4c",
   "metadata": {},
   "source": [
    "Note − Since the window size is 3, for first two elements there are nulls and from third the value will be the average of the n, n-1 and n-2 elements. Thus we can also apply various functions as mentioned above."
   ]
  },
  {
   "cell_type": "markdown",
   "id": "f7d4e72c",
   "metadata": {},
   "source": [
    "# .expanding() Function\n",
    "This function can be applied on a series of data. Specify the min_periods=n argument and apply the appropriate statistical function on top of it. \n",
    "\n",
    "It calculates the cummulative sum of the columns."
   ]
  },
  {
   "cell_type": "code",
   "execution_count": 16,
   "id": "464a4218",
   "metadata": {},
   "outputs": [
    {
     "name": "stdout",
     "output_type": "stream",
     "text": [
      "    A   B\n",
      "0   1   4\n",
      "1   2   6\n",
      "2   3   8\n",
      "3  12  56\n",
      "4  45   7\n",
      "5  66   8\n",
      "      A          B\n",
      "0   NaN        NaN\n",
      "1   NaN        NaN\n",
      "2   2.0   6.000000\n",
      "3   4.5  18.500000\n",
      "4  12.6  16.200000\n",
      "5  21.5  14.833333\n"
     ]
    }
   ],
   "source": [
    "import pandas as pd\n",
    "import numpy as np\n",
    "\n",
    "df = pd.DataFrame({\"A\":[1,2,3,12,45,66],\"B\":[4,6,8,56,7,8]})\n",
    "print(df)\n",
    "list(df.expanding(min_periods=2)) \n",
    "print(df.expanding(min_periods=3).mean())"
   ]
  },
  {
   "cell_type": "markdown",
   "id": "28b415a3",
   "metadata": {},
   "source": [
    "# .ewm() Function\n",
    "ewm is applied on a series of data. Specify any of the com, span, halflife argument and apply the appropriate statistical function on top of it. It assigns the weights exponentially."
   ]
  },
  {
   "cell_type": "code",
   "execution_count": 17,
   "id": "62f1d337",
   "metadata": {},
   "outputs": [
    {
     "name": "stdout",
     "output_type": "stream",
     "text": [
      "   periods  Sales\n",
      "0        1     25\n",
      "1        2     20\n",
      "2        3     14\n",
      "3        4     16\n",
      "4        5     27\n",
      "5        6     20\n",
      "6        7     12\n",
      "7        8     15\n",
      "8        9     14\n",
      "9       10     19\n"
     ]
    },
    {
     "data": {
      "text/html": [
       "<div>\n",
       "<style scoped>\n",
       "    .dataframe tbody tr th:only-of-type {\n",
       "        vertical-align: middle;\n",
       "    }\n",
       "\n",
       "    .dataframe tbody tr th {\n",
       "        vertical-align: top;\n",
       "    }\n",
       "\n",
       "    .dataframe thead th {\n",
       "        text-align: right;\n",
       "    }\n",
       "</style>\n",
       "<table border=\"1\" class=\"dataframe\">\n",
       "  <thead>\n",
       "    <tr style=\"text-align: right;\">\n",
       "      <th></th>\n",
       "      <th>periods</th>\n",
       "      <th>Sales</th>\n",
       "      <th>4dayEWM</th>\n",
       "    </tr>\n",
       "  </thead>\n",
       "  <tbody>\n",
       "    <tr>\n",
       "      <th>0</th>\n",
       "      <td>1</td>\n",
       "      <td>25</td>\n",
       "      <td>25.000000</td>\n",
       "    </tr>\n",
       "    <tr>\n",
       "      <th>1</th>\n",
       "      <td>2</td>\n",
       "      <td>20</td>\n",
       "      <td>23.333333</td>\n",
       "    </tr>\n",
       "    <tr>\n",
       "      <th>2</th>\n",
       "      <td>3</td>\n",
       "      <td>14</td>\n",
       "      <td>20.222222</td>\n",
       "    </tr>\n",
       "    <tr>\n",
       "      <th>3</th>\n",
       "      <td>4</td>\n",
       "      <td>16</td>\n",
       "      <td>18.814815</td>\n",
       "    </tr>\n",
       "    <tr>\n",
       "      <th>4</th>\n",
       "      <td>5</td>\n",
       "      <td>27</td>\n",
       "      <td>21.543210</td>\n",
       "    </tr>\n",
       "    <tr>\n",
       "      <th>5</th>\n",
       "      <td>6</td>\n",
       "      <td>20</td>\n",
       "      <td>21.028807</td>\n",
       "    </tr>\n",
       "    <tr>\n",
       "      <th>6</th>\n",
       "      <td>7</td>\n",
       "      <td>12</td>\n",
       "      <td>18.019204</td>\n",
       "    </tr>\n",
       "    <tr>\n",
       "      <th>7</th>\n",
       "      <td>8</td>\n",
       "      <td>15</td>\n",
       "      <td>17.012803</td>\n",
       "    </tr>\n",
       "    <tr>\n",
       "      <th>8</th>\n",
       "      <td>9</td>\n",
       "      <td>14</td>\n",
       "      <td>16.008535</td>\n",
       "    </tr>\n",
       "    <tr>\n",
       "      <th>9</th>\n",
       "      <td>10</td>\n",
       "      <td>19</td>\n",
       "      <td>17.005690</td>\n",
       "    </tr>\n",
       "  </tbody>\n",
       "</table>\n",
       "</div>"
      ],
      "text/plain": [
       "   periods  Sales    4dayEWM\n",
       "0        1     25  25.000000\n",
       "1        2     20  23.333333\n",
       "2        3     14  20.222222\n",
       "3        4     16  18.814815\n",
       "4        5     27  21.543210\n",
       "5        6     20  21.028807\n",
       "6        7     12  18.019204\n",
       "7        8     15  17.012803\n",
       "8        9     14  16.008535\n",
       "9       10     19  17.005690"
      ]
     },
     "execution_count": 17,
     "metadata": {},
     "output_type": "execute_result"
    }
   ],
   "source": [
    "import pandas as pd\n",
    "import numpy as np\n",
    " \n",
    "df = pd.DataFrame({'periods':[1,2,3,4,5,6,7,8,9,10],\n",
    "                  'Sales':[25,20,14,16,27,20,12,15,14,19]})\n",
    "\n",
    "print(df)\n",
    "df['4dayEWM'] = df['Sales'].ewm(span=5,adjust=False).mean()\n",
    "\n",
    "df"
   ]
  },
  {
   "cell_type": "code",
   "execution_count": 18,
   "id": "219ef87b",
   "metadata": {},
   "outputs": [
    {
     "data": {
      "text/plain": [
       "<matplotlib.legend.Legend at 0x26dc1edd3d0>"
      ]
     },
     "execution_count": 18,
     "metadata": {},
     "output_type": "execute_result"
    },
    {
     "data": {
      "image/png": "[encoded data removed]",
      "text/plain": [
       "<Figure size 640x480 with 1 Axes>"
      ]
     },
     "metadata": {},
     "output_type": "display_data"
    }
   ],
   "source": [
    "import matplotlib.pyplot as plt\n",
    "\n",
    "plt.plot(df['Sales'],label='Sales')\n",
    "plt.plot(df['4dayEWM'],label='4dayperiod')\n",
    "plt.legend(loc=2)"
   ]
  },
  {
   "cell_type": "markdown",
   "id": "d18e63b7",
   "metadata": {},
   "source": [
    "Window functions are majorly used in finding the trends within the data graphically by smoothing the curve. If there is lot of variation in the everyday data and a lot of data points are available, then taking the samples and plotting is one method and applying the window computations and plotting the graph on the results is another method. By these methods, we can smooth the curve or the trend."
   ]
  },
  {
   "cell_type": "code",
   "execution_count": null,
   "id": "5f9cb4b3",
   "metadata": {},
   "outputs": [],
   "source": []
  }
 ],
 "metadata": {
  "kernelspec": {
   "display_name": "Python 3 (ipykernel)",
   "language": "python",
   "name": "python3"
  },
  "language_info": {
   "codemirror_mode": {
    "name": "ipython",
    "version": 3
   },
   "file_extension": ".py",
   "mimetype": "text/x-python",
   "name": "python",
   "nbconvert_exporter": "python",
   "pygments_lexer": "ipython3",
   "version": "3.9.6"
  }
 },
 "nbformat": 4,
 "nbformat_minor": 5
}
