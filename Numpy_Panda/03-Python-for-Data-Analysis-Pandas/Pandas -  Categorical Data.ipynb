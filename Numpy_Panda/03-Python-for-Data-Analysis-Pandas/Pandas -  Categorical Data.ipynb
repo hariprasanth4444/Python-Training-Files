{
 "cells": [
  {
   "cell_type": "markdown",
   "id": "0e40a5ad",
   "metadata": {},
   "source": [
    "**Object Creation**\n",
    "\n",
    "Categorical object can be created in multiple ways. The different ways have been described below- \n",
    "\n",
    "Category\n",
    "By specifying the dtype as category in pandas object creation"
   ]
  },
  {
   "cell_type": "code",
   "execution_count": 1,
   "id": "9b6b3203",
   "metadata": {},
   "outputs": [
    {
     "name": "stdout",
     "output_type": "stream",
     "text": [
      "0    a\n",
      "1    b\n",
      "2    c\n",
      "3    a\n",
      "dtype: category\n",
      "Categories (3, object): ['a', 'b', 'c']\n"
     ]
    }
   ],
   "source": [
    "import pandas as pd\n",
    "s= pd.Series(['a','b','c','a'],dtype=\"category\")\n",
    "print(s)"
   ]
  },
  {
   "cell_type": "markdown",
   "id": "3bc88943",
   "metadata": {},
   "source": [
    "**pd.Categorical**\n",
    "Using the Standard pandas Categorical Constructor we can creat a category object\n",
    "\n",
    "<Code>pd.Categorical(values,categories,ordered)</Code>"
   ]
  },
  {
   "cell_type": "code",
   "execution_count": 2,
   "id": "b83f6a10",
   "metadata": {},
   "outputs": [
    {
     "name": "stdout",
     "output_type": "stream",
     "text": [
      "['a', 'b', 'c', 'a', 'b', 'c']\n",
      "Categories (3, object): ['a', 'b', 'c']\n",
      "['a', 'b', 'c', 'a', 'b', 'c', NaN]\n",
      "Categories (3, object): ['b' < 'a' < 'c']\n",
      "[1, 2, 3, NaN, 2, NaN, 3]\n",
      "Categories (3, int64): [3 < 1 < 2]\n"
     ]
    }
   ],
   "source": [
    "cat = pd.Categorical(['a','b','c','a','b','c'])\n",
    "print(cat)\n",
    "\n",
    "cat1 = pd.Categorical(['a','b','c','a','b','c','d'],['b','a','c'],ordered=True)\n",
    "print(cat1)\n",
    "\n",
    "cat2 = pd.Categorical([1,2,3,4,2,4,3],[3,1,2],ordered=True)\n",
    "print(cat2)"
   ]
  },
  {
   "cell_type": "markdown",
   "id": "e0fb6847",
   "metadata": {},
   "source": [
    "**TimeDelta**\n"
   ]
  },
  {
   "cell_type": "code",
   "execution_count": 4,
   "id": "3511e82b",
   "metadata": {},
   "outputs": [
    {
     "name": "stdout",
     "output_type": "stream",
     "text": [
      "2 days 02:15:30\n",
      "0 days 06:00:00\n",
      "2 days 00:00:00\n"
     ]
    }
   ],
   "source": [
    "print(pd.Timedelta('2 days 2 hours 15 minutes 30 seconds'))\n",
    "\n",
    "print(pd.Timedelta(6,unit='h'))\n",
    "\n",
    "print(pd.Timedelta(days=2))"
   ]
  },
  {
   "cell_type": "code",
   "execution_count": null,
   "id": "bb65c2e7",
   "metadata": {},
   "outputs": [],
   "source": []
  }
 ],
 "metadata": {
  "kernelspec": {
   "display_name": "Python 3 (ipykernel)",
   "language": "python",
   "name": "python3"
  },
  "language_info": {
   "codemirror_mode": {
    "name": "ipython",
    "version": 3
   },
   "file_extension": ".py",
   "mimetype": "text/x-python",
   "name": "python",
   "nbconvert_exporter": "python",
   "pygments_lexer": "ipython3",
   "version": "3.9.6"
  }
 },
 "nbformat": 4,
 "nbformat_minor": 5
}
