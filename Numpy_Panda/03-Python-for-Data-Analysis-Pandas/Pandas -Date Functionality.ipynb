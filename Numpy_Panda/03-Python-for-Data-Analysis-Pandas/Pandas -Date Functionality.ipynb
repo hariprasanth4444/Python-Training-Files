{
 "cells": [
  {
   "cell_type": "markdown",
   "id": "3df030a4",
   "metadata": {},
   "source": [
    "Extending the Time series, Date functionalities play major role in financial data analysis. While working with Date data, we will frequently come across the following −\n",
    "\n",
    "Generating sequence of dates\n",
    "Convert the date series to different frequencies\n",
    "\n",
    "**Create a Range of Dates**\n",
    "\n",
    "Using the date.range() function by specifying the periods and the frequency, we can create the date series. By default, the frequency of range is Days."
   ]
  },
  {
   "cell_type": "code",
   "execution_count": 1,
   "id": "c3ebd4e6",
   "metadata": {},
   "outputs": [
    {
     "name": "stdout",
     "output_type": "stream",
     "text": [
      "DatetimeIndex(['2011-01-01', '2011-01-02', '2011-01-03', '2011-01-04',\n",
      "               '2011-01-05'],\n",
      "              dtype='datetime64[ns]', freq='D')\n"
     ]
    }
   ],
   "source": [
    "import pandas as pd\n",
    "\n",
    "print( pd.date_range('1/1/2011', periods=5))"
   ]
  },
  {
   "cell_type": "markdown",
   "id": "c8fbafef",
   "metadata": {},
   "source": [
    "**Change the Date Frequency**\n"
   ]
  },
  {
   "cell_type": "code",
   "execution_count": 2,
   "id": "8d4f8a0f",
   "metadata": {},
   "outputs": [
    {
     "name": "stdout",
     "output_type": "stream",
     "text": [
      "DatetimeIndex(['2011-01-31', '2011-02-28', '2011-03-31', '2011-04-30',\n",
      "               '2011-05-31'],\n",
      "              dtype='datetime64[ns]', freq='M')\n"
     ]
    }
   ],
   "source": [
    "import pandas as pd\n",
    "\n",
    "print( pd.date_range('1/1/2011', periods=5,freq='M'))"
   ]
  },
  {
   "cell_type": "markdown",
   "id": "f3c04a06",
   "metadata": {},
   "source": [
    "**bdate_range**\n",
    "bdate_range() stands for business date ranges. Unlike date_range(), it excludes Saturday and Sunday."
   ]
  },
  {
   "cell_type": "code",
   "execution_count": 3,
   "id": "8f752bad",
   "metadata": {},
   "outputs": [
    {
     "name": "stdout",
     "output_type": "stream",
     "text": [
      "DatetimeIndex(['2011-01-03', '2011-01-04', '2011-01-05', '2011-01-06',\n",
      "               '2011-01-07', '2011-01-10', '2011-01-11', '2011-01-12',\n",
      "               '2011-01-13', '2011-01-14'],\n",
      "              dtype='datetime64[ns]', freq='B')\n"
     ]
    }
   ],
   "source": [
    "import pandas as pd\n",
    "\n",
    "print( pd.bdate_range('1/1/2011', periods=10))"
   ]
  },
  {
   "cell_type": "markdown",
   "id": "7625a8c4",
   "metadata": {},
   "source": [
    "Observe, after 3rd March, the date jumps to 6th march excluding 4th and 5th. Just check your calendar for the days.\n",
    "\n",
    "Convenience functions like date_range and bdate_range utilize a variety of frequency aliases. The default frequency for date_range is a calendar day while the default for bdate_range is a business day."
   ]
  },
  {
   "cell_type": "code",
   "execution_count": 5,
   "id": "acf041b7",
   "metadata": {},
   "outputs": [
    {
     "name": "stdout",
     "output_type": "stream",
     "text": [
      "DatetimeIndex([], dtype='datetime64[ns]', freq='D')\n"
     ]
    }
   ],
   "source": [
    "import pandas as pd\n",
    "start = pd.to_datetime(2011-1-1)\n",
    "end = pd.to_datetime(2011-2-5)\n",
    "\n",
    "print( pd.date_range(start, end))"
   ]
  },
  {
   "cell_type": "code",
   "execution_count": null,
   "id": "6cbd6cdb",
   "metadata": {},
   "outputs": [],
   "source": []
  }
 ],
 "metadata": {
  "kernelspec": {
   "display_name": "Python 3 (ipykernel)",
   "language": "python",
   "name": "python3"
  },
  "language_info": {
   "codemirror_mode": {
    "name": "ipython",
    "version": 3
   },
   "file_extension": ".py",
   "mimetype": "text/x-python",
   "name": "python",
   "nbconvert_exporter": "python",
   "pygments_lexer": "ipython3",
   "version": "3.9.6"
  }
 },
 "nbformat": 4,
 "nbformat_minor": 5
}
