{
 "cells": [
  {
   "cell_type": "markdown",
   "id": "04299357",
   "metadata": {},
   "source": [
    "In this chapter, we will discuss the string operations with our basic Series/Index. In the subsequent chapters, we will learn how to apply these string functions on the DataFrame.\n",
    "\n",
    "Pandas provides a set of string functions which make it easy to operate on string data. Most importantly, these functions ignore (or exclude) missing/NaN values.\n",
    "\n",
    "Almost, all of these methods work with Python string functions (refer: https://docs.python.org/3/library/stdtypes.html#string-methods). So, convert the Series Object to String Object and then perform the operation.\n",
    "\n",
    "Let us now see how each operation performs.\n",
    "\n",
    "1\t\n",
    "lower()\n",
    "\n",
    "Converts strings in the Series/Index to lower case.\n",
    "\n",
    "2\t\n",
    "upper()\n",
    "\n",
    "Converts strings in the Series/Index to upper case.\n",
    "\n",
    "3\t\n",
    "len()\n",
    "\n",
    "Computes String length().\n",
    "\n",
    "4\t\n",
    "strip()\n",
    "\n",
    "Helps strip whitespace(including newline) from each string in the Series/index from both the sides.\n",
    "\n",
    "5\t\n",
    "split(' ')\n",
    "\n",
    "Splits each string with the given pattern.\n",
    "\n",
    "6\t\n",
    "cat(sep=' ')\n",
    "\n",
    "Concatenates the series/index elements with given separator.\n",
    "\n",
    "7\t\n",
    "get_dummies()\n",
    "\n",
    "Returns the DataFrame with One-Hot Encoded values.\n",
    "\n",
    "8\t\n",
    "contains(pattern)\n",
    "\n",
    "Returns a Boolean value True for each element if the substring contains in the element, else False.\n",
    "\n",
    "9\t\n",
    "replace(a,b)\n",
    "\n",
    "Replaces the value a with the value b.\n",
    "\n",
    "10\t\n",
    "repeat(value)\n",
    "\n",
    "Repeats each element with specified number of times.\n",
    "\n",
    "11\t\n",
    "count(pattern)\n",
    "\n",
    "Returns count of appearance of pattern in each element.\n",
    "\n",
    "12\t\n",
    "startswith(pattern)\n",
    "\n",
    "Returns true if the element in the Series/Index starts with the pattern.\n",
    "\n",
    "13\t\n",
    "endswith(pattern)\n",
    "\n",
    "Returns true if the element in the Series/Index ends with the pattern.\n",
    "\n",
    "14\t\n",
    "find(pattern)\n",
    "\n",
    "Returns the first position of the first occurrence of the pattern.\n",
    "\n",
    "15\t\n",
    "findall(pattern)\n",
    "\n",
    "Returns a list of all occurrence of the pattern.\n",
    "\n",
    "16\t\n",
    "swapcase\n",
    "\n",
    "Swaps the case lower/upper.\n",
    "\n",
    "17\t\n",
    "islower()\n",
    "\n",
    "Checks whether all characters in each string in the Series/Index in lower case or not. Returns Boolean\n",
    "\n",
    "18\t\n",
    "isupper()\n",
    "\n",
    "Checks whether all characters in each string in the Series/Index in upper case or not. Returns Boolean.\n",
    "\n",
    "19\t\n",
    "isnumeric()\n",
    "\n",
    "Checks whether all characters in each string in the Series/Index are numeric. Returns Boolean.\n",
    "\n",
    "Let us now create a Series and see how all the above functions work."
   ]
  },
  {
   "cell_type": "code",
   "execution_count": 1,
   "id": "5a7bf0ac",
   "metadata": {},
   "outputs": [
    {
     "name": "stdout",
     "output_type": "stream",
     "text": [
      "<class 'pandas.core.series.Series'>\n"
     ]
    }
   ],
   "source": [
    "import pandas as pd\n",
    "import numpy as np\n",
    "\n",
    "s = pd.Series(['Tom', 'William Rick', 'John', 'Alber@t', np.nan, '1234','SteveSmith'])\n",
    "\n",
    "print(type(s))"
   ]
  },
  {
   "cell_type": "code",
   "execution_count": 2,
   "id": "34a5050a",
   "metadata": {},
   "outputs": [
    {
     "data": {
      "text/plain": [
       "0             tom\n",
       "1    william rick\n",
       "2            john\n",
       "3         alber@t\n",
       "4             NaN\n",
       "5            1234\n",
       "6      stevesmith\n",
       "dtype: object"
      ]
     },
     "execution_count": 2,
     "metadata": {},
     "output_type": "execute_result"
    }
   ],
   "source": [
    "# lower()\n",
    "\n",
    "s.str.lower()"
   ]
  },
  {
   "cell_type": "code",
   "execution_count": 3,
   "id": "c69b4a48",
   "metadata": {},
   "outputs": [
    {
     "data": {
      "text/plain": [
       "0             TOM\n",
       "1    WILLIAM RICK\n",
       "2            JOHN\n",
       "3         ALBER@T\n",
       "4             NaN\n",
       "5            1234\n",
       "6      STEVESMITH\n",
       "dtype: object"
      ]
     },
     "execution_count": 3,
     "metadata": {},
     "output_type": "execute_result"
    }
   ],
   "source": [
    "#upper()\n",
    "s.str.upper()"
   ]
  },
  {
   "cell_type": "code",
   "execution_count": 6,
   "id": "97e1f470",
   "metadata": {},
   "outputs": [
    {
     "data": {
      "text/plain": [
       "0     3.0\n",
       "1    12.0\n",
       "2     4.0\n",
       "3     7.0\n",
       "4     NaN\n",
       "5     4.0\n",
       "6    10.0\n",
       "dtype: float64"
      ]
     },
     "execution_count": 6,
     "metadata": {},
     "output_type": "execute_result"
    }
   ],
   "source": [
    "#len()\n",
    "s.str.len()"
   ]
  },
  {
   "cell_type": "code",
   "execution_count": 7,
   "id": "22b30004",
   "metadata": {},
   "outputs": [
    {
     "name": "stdout",
     "output_type": "stream",
     "text": [
      "After Stripping:\n"
     ]
    },
    {
     "data": {
      "text/plain": [
       "0             Tom\n",
       "1    William Rick\n",
       "2            John\n",
       "3         Alber@t\n",
       "4             NaN\n",
       "5            1234\n",
       "6      SteveSmith\n",
       "dtype: object"
      ]
     },
     "execution_count": 7,
     "metadata": {},
     "output_type": "execute_result"
    }
   ],
   "source": [
    "#Strip\n",
    "\n",
    "print (\"After Stripping:\")\n",
    "s.str.strip()"
   ]
  },
  {
   "cell_type": "code",
   "execution_count": 9,
   "id": "253c3588",
   "metadata": {},
   "outputs": [
    {
     "data": {
      "text/plain": [
       "0     True\n",
       "1     True\n",
       "2     True\n",
       "3    False\n",
       "4      NaN\n",
       "5    False\n",
       "6    False\n",
       "dtype: object"
      ]
     },
     "execution_count": 9,
     "metadata": {},
     "output_type": "execute_result"
    }
   ],
   "source": [
    "s.str.istitle()"
   ]
  },
  {
   "cell_type": "code",
   "execution_count": null,
   "id": "fdb82754",
   "metadata": {},
   "outputs": [],
   "source": []
  }
 ],
 "metadata": {
  "kernelspec": {
   "display_name": "Python 3 (ipykernel)",
   "language": "python",
   "name": "python3"
  },
  "language_info": {
   "codemirror_mode": {
    "name": "ipython",
    "version": 3
   },
   "file_extension": ".py",
   "mimetype": "text/x-python",
   "name": "python",
   "nbconvert_exporter": "python",
   "pygments_lexer": "ipython3",
   "version": "3.9.6"
  }
 },
 "nbformat": 4,
 "nbformat_minor": 5
}
