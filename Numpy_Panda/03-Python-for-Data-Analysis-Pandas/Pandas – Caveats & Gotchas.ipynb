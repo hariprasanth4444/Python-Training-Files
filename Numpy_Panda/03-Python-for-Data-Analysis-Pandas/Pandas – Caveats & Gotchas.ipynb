{
 "cells": [
  {
   "cell_type": "markdown",
   "id": "93371bd7",
   "metadata": {},
   "source": [
    "Caveats means warning and gotcha means an unseen problem.\n",
    "\n",
    "**Using If/Truth Statement with Pandas**\n",
    "\n",
    "Pandas follows the numpy convention of raising an error when you try to convert something to a bool. This happens in an if or when using the Boolean operations, and, or, or not. It is not clear what the result should be. Should it be True because it is not zerolength? False because there are False values? It is unclear, so instead, Pandas raises a ValueError −"
   ]
  },
  {
   "cell_type": "code",
   "execution_count": 1,
   "id": "9b191969",
   "metadata": {},
   "outputs": [
    {
     "ename": "ValueError",
     "evalue": "The truth value of a Series is ambiguous. Use a.empty, a.bool(), a.item(), a.any() or a.all().",
     "output_type": "error",
     "traceback": [
      "\u001b[1;31m---------------------------------------------------------------------------\u001b[0m",
      "\u001b[1;31mValueError\u001b[0m                                Traceback (most recent call last)",
      "Cell \u001b[1;32mIn[1], line 3\u001b[0m\n\u001b[0;32m      1\u001b[0m \u001b[38;5;28;01mimport\u001b[39;00m \u001b[38;5;21;01mpandas\u001b[39;00m \u001b[38;5;28;01mas\u001b[39;00m \u001b[38;5;21;01mpd\u001b[39;00m\n\u001b[1;32m----> 3\u001b[0m \u001b[38;5;28;01mif\u001b[39;00m pd\u001b[38;5;241m.\u001b[39mSeries([\u001b[38;5;28;01mFalse\u001b[39;00m, \u001b[38;5;28;01mTrue\u001b[39;00m, \u001b[38;5;28;01mFalse\u001b[39;00m]):\n\u001b[0;32m      4\u001b[0m    \u001b[38;5;28mprint\u001b[39m( \u001b[38;5;124m'\u001b[39m\u001b[38;5;124mI am True\u001b[39m\u001b[38;5;124m'\u001b[39m)\n",
      "File \u001b[1;32m~\\AppData\\Roaming\\Python\\Python39\\site-packages\\pandas\\core\\generic.py:1466\u001b[0m, in \u001b[0;36mNDFrame.__nonzero__\u001b[1;34m(self)\u001b[0m\n\u001b[0;32m   1464\u001b[0m \u001b[38;5;129m@final\u001b[39m\n\u001b[0;32m   1465\u001b[0m \u001b[38;5;28;01mdef\u001b[39;00m \u001b[38;5;21m__nonzero__\u001b[39m(\u001b[38;5;28mself\u001b[39m) \u001b[38;5;241m-\u001b[39m\u001b[38;5;241m>\u001b[39m NoReturn:\n\u001b[1;32m-> 1466\u001b[0m     \u001b[38;5;28;01mraise\u001b[39;00m \u001b[38;5;167;01mValueError\u001b[39;00m(\n\u001b[0;32m   1467\u001b[0m         \u001b[38;5;124mf\u001b[39m\u001b[38;5;124m\"\u001b[39m\u001b[38;5;124mThe truth value of a \u001b[39m\u001b[38;5;132;01m{\u001b[39;00m\u001b[38;5;28mtype\u001b[39m(\u001b[38;5;28mself\u001b[39m)\u001b[38;5;241m.\u001b[39m\u001b[38;5;18m__name__\u001b[39m\u001b[38;5;132;01m}\u001b[39;00m\u001b[38;5;124m is ambiguous. \u001b[39m\u001b[38;5;124m\"\u001b[39m\n\u001b[0;32m   1468\u001b[0m         \u001b[38;5;124m\"\u001b[39m\u001b[38;5;124mUse a.empty, a.bool(), a.item(), a.any() or a.all().\u001b[39m\u001b[38;5;124m\"\u001b[39m\n\u001b[0;32m   1469\u001b[0m     )\n",
      "\u001b[1;31mValueError\u001b[0m: The truth value of a Series is ambiguous. Use a.empty, a.bool(), a.item(), a.any() or a.all()."
     ]
    }
   ],
   "source": [
    "import pandas as pd\n",
    "\n",
    "if pd.Series([False, True, False]):\n",
    "   print( 'I am True')"
   ]
  },
  {
   "cell_type": "markdown",
   "id": "fc810b19",
   "metadata": {},
   "source": [
    "In if condition, it is unclear what to do with it. The error is suggestive of whether to use a None or any of those."
   ]
  },
  {
   "cell_type": "code",
   "execution_count": 2,
   "id": "d19ede6f",
   "metadata": {},
   "outputs": [
    {
     "name": "stdout",
     "output_type": "stream",
     "text": [
      "I am any\n"
     ]
    }
   ],
   "source": [
    "import pandas as pd\n",
    "\n",
    "if pd.Series([False, True, False]).any():\n",
    "   print(\"I am any\")"
   ]
  },
  {
   "cell_type": "markdown",
   "id": "f125e07a",
   "metadata": {},
   "source": [
    "To evaluate single-element pandas objects in a Boolean context, use the method .bool() −"
   ]
  },
  {
   "cell_type": "code",
   "execution_count": 3,
   "id": "706798b9",
   "metadata": {},
   "outputs": [
    {
     "name": "stdout",
     "output_type": "stream",
     "text": [
      "False\n"
     ]
    }
   ],
   "source": [
    "import pandas as pd\n",
    "\n",
    "print( pd.Series([False]).bool())"
   ]
  },
  {
   "cell_type": "markdown",
   "id": "3b5bd614",
   "metadata": {},
   "source": [
    "**Bitwise Boolean**\n",
    "Bitwise Boolean operators like == and != will return a Boolean series, which is almost always what is required anyways."
   ]
  },
  {
   "cell_type": "code",
   "execution_count": 4,
   "id": "f8294062",
   "metadata": {},
   "outputs": [
    {
     "name": "stdout",
     "output_type": "stream",
     "text": [
      "0    False\n",
      "1    False\n",
      "2    False\n",
      "3    False\n",
      "4     True\n",
      "dtype: bool\n"
     ]
    }
   ],
   "source": [
    "import pandas as pd\n",
    "\n",
    "s = pd.Series(range(5))\n",
    "print( s==4)"
   ]
  },
  {
   "cell_type": "markdown",
   "id": "5f41d739",
   "metadata": {},
   "source": [
    "**isin Operation**\n",
    "This returns a Boolean series showing whether each element in the Series is exactly contained in the passed sequence of values."
   ]
  },
  {
   "cell_type": "code",
   "execution_count": 5,
   "id": "acd7c131",
   "metadata": {},
   "outputs": [
    {
     "name": "stdout",
     "output_type": "stream",
     "text": [
      "0     True\n",
      "1    False\n",
      "2     True\n",
      "dtype: bool\n"
     ]
    }
   ],
   "source": [
    "import pandas as pd\n",
    "\n",
    "s = pd.Series(list('abc'))\n",
    "s = s.isin(['a', 'c', 'e'])\n",
    "print( s)"
   ]
  },
  {
   "cell_type": "markdown",
   "id": "119dc51c",
   "metadata": {},
   "source": [
    "**Reindexing vs loc Gotcha**\n",
    "\n",
    "Many users will find themselves using the loc indexing capabilities as a concise means of selecting data from a Pandas object −"
   ]
  },
  {
   "cell_type": "code",
   "execution_count": 6,
   "id": "47098769",
   "metadata": {},
   "outputs": [
    {
     "name": "stdout",
     "output_type": "stream",
     "text": [
      "        one       two     three      four\n",
      "a -0.495395 -0.365823 -0.006541  0.569642\n",
      "b  0.027622 -0.445630  0.824170  1.515551\n",
      "c -0.418347 -0.441260 -2.505435 -0.149226\n",
      "d -0.337063 -0.319490 -0.431125  0.109285\n",
      "e -0.439382  1.156746 -1.069522  1.318388\n",
      "f -0.661837  2.886028  1.468710 -1.846243\n",
      "        one       two     three      four\n",
      "b  0.027622 -0.445630  0.824170  1.515551\n",
      "c -0.418347 -0.441260 -2.505435 -0.149226\n",
      "e -0.439382  1.156746 -1.069522  1.318388\n"
     ]
    }
   ],
   "source": [
    "import pandas as pd\n",
    "import numpy as np\n",
    "\n",
    "df = pd.DataFrame(np.random.randn(6, 4), columns=['one', 'two', 'three',\n",
    "'four'],index=list('abcdef'))\n",
    "\n",
    "print (df)\n",
    "print (df.loc[['b', 'c', 'e']])"
   ]
  },
  {
   "cell_type": "markdown",
   "id": "c25799f9",
   "metadata": {},
   "source": [
    "This is, of course, completely equivalent in this case to using the reindex method −"
   ]
  },
  {
   "cell_type": "code",
   "execution_count": 7,
   "id": "f4270b74",
   "metadata": {},
   "outputs": [
    {
     "name": "stdout",
     "output_type": "stream",
     "text": [
      "        one       two     three      four\n",
      "a  1.698211  1.534592  1.785455 -1.548422\n",
      "b -0.563413 -0.573844  0.928697  0.760832\n",
      "c -0.542379  0.197429 -0.344273 -0.378305\n",
      "d -0.650118  0.135208  1.321958 -1.013040\n",
      "e  1.209512 -0.665895 -1.179011  0.409632\n",
      "f -0.458314 -1.508262 -0.850069  1.153525\n",
      "        one       two     three      four\n",
      "b -0.563413 -0.573844  0.928697  0.760832\n",
      "c -0.542379  0.197429 -0.344273 -0.378305\n",
      "e  1.209512 -0.665895 -1.179011  0.409632\n"
     ]
    }
   ],
   "source": [
    "import pandas as pd\n",
    "import numpy as np\n",
    "\n",
    "df = pd.DataFrame(np.random.randn(6, 4), columns=['one', 'two', 'three',\n",
    "'four'],index=list('abcdef'))\n",
    "\n",
    "print (df)\n",
    "print (df.reindex(['b', 'c', 'e']))"
   ]
  },
  {
   "cell_type": "markdown",
   "id": "c3586e68",
   "metadata": {},
   "source": [
    "Some might conclude that loc and reindex are 100% equivalent based on this. This is true except in the case of integer indexing. For example, the above operation can alternatively be expressed as −"
   ]
  },
  {
   "cell_type": "code",
   "execution_count": 8,
   "id": "a963e29f",
   "metadata": {},
   "outputs": [
    {
     "name": "stdout",
     "output_type": "stream",
     "text": [
      "        one       two     three      four\n",
      "a  0.543291  0.303637  0.902269 -1.343056\n",
      "b -0.986776  0.597096  0.916124  1.328598\n",
      "c  0.773153 -1.116332 -0.178390 -1.058435\n",
      "d  1.580089 -0.467977  0.366154 -1.223829\n",
      "e -0.197873  2.382425 -0.270522 -1.744254\n",
      "f  0.124678 -0.875722 -0.207807  1.728758\n",
      "        one       two     three      four\n",
      "b -0.986776  0.597096  0.916124  1.328598\n",
      "c  0.773153 -1.116332 -0.178390 -1.058435\n",
      "e -0.197873  2.382425 -0.270522 -1.744254\n",
      "   one  two  three  four\n",
      "1  NaN  NaN    NaN   NaN\n",
      "2  NaN  NaN    NaN   NaN\n",
      "4  NaN  NaN    NaN   NaN\n"
     ]
    }
   ],
   "source": [
    "import pandas as pd\n",
    "import numpy as np\n",
    "\n",
    "df = pd.DataFrame(np.random.randn(6, 4), columns=['one', 'two', 'three',\n",
    "'four'],index=list('abcdef'))\n",
    "\n",
    "print (df)\n",
    "print (df.iloc[[1, 2, 4]])\n",
    "print (df.reindex([1, 2, 4]))"
   ]
  },
  {
   "cell_type": "markdown",
   "id": "4a60ebf3",
   "metadata": {},
   "source": [
    "It is important to remember that reindex is strict label indexing only. This can lead to some potentially surprising results in pathological cases where an index contains, say, both integers and strings."
   ]
  },
  {
   "cell_type": "code",
   "execution_count": null,
   "id": "99119d0e",
   "metadata": {},
   "outputs": [],
   "source": []
  }
 ],
 "metadata": {
  "kernelspec": {
   "display_name": "Python 3 (ipykernel)",
   "language": "python",
   "name": "python3"
  },
  "language_info": {
   "codemirror_mode": {
    "name": "ipython",
    "version": 3
   },
   "file_extension": ".py",
   "mimetype": "text/x-python",
   "name": "python",
   "nbconvert_exporter": "python",
   "pygments_lexer": "ipython3",
   "version": "3.9.6"
  }
 },
 "nbformat": 4,
 "nbformat_minor": 5
}
