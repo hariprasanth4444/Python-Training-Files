{
 "cells": [
  {
   "cell_type": "markdown",
   "id": "19be0e4b",
   "metadata": {},
   "source": [
    "# Tkinter\n",
    "Graphical User Interface(GUI) is a form of user interface which allows users to interact with computers through visual indicators using items such as icons, menus, windows, etc. It has advantages over the Command Line Interface(CLI) where users interact with computers by writing commands using keyboard only and whose usage is more difficult than GUI. \n",
    "\n",
    "What is Tkinter?\n",
    "Tkinter is the inbuilt python module that is used to create GUI applications. It is one of the most commonly used modules for creating GUI applications in Python as it is simple and easy to work with. You don’t need to worry about the installation of the Tkinter module separately as it comes with Python already. It gives an object-oriented interface to the Tk GUI toolkit. \n",
    "Some other Python Libraries available for creating our own GUI applications are\n",
    "\n",
    "Kivy\n",
    "Python Qt\n",
    "wxPython\n",
    "Among all Tkinter is most widely used \n",
    "\n",
    "Here are some common use cases for Tkinter:\n",
    "\n",
    "Creating windows and dialog boxes: Tkinter can be used to create windows and dialog boxes that allow users to interact with your program. These can be used to display information, gather input, or present options to the user.\n",
    "Building a GUI for a desktop application: Tkinter can be used to create the interface for a desktop application, including buttons, menus, and other interactive elements.\n",
    "Adding a GUI to a command-line program: Tkinter can be used to add a GUI to a command-line program, making it easier for users to interact with the program and input arguments.\n",
    "Creating custom widgets: Tkinter includes a variety of built-in widgets, such as buttons, labels, and text boxes, but it also allows you to create your own custom widgets.\n",
    "Prototyping a GUI: Tkinter can be used to quickly prototype a GUI, allowing you to test and iterate on different design ideas before committing to a final implementation.\n",
    "In summary, Tkinter is a useful tool for creating a wide variety of graphical user interfaces, including windows, dialog boxes, and custom widgets. It is particularly well-suited for building desktop applications and adding a GUI to command-line programs.\n",
    "\n",
    "\n",
    "What are Widgets?\n",
    "Widgets in Tkinter are the elements of GUI application which provides various controls (such as Labels, Buttons, ComboBoxes, CheckBoxes, MenuBars, RadioButtons and many more) to users to interact with the application. Fundamental structure of tkinter program \n",
    "\n",
    "Basic Tkinter Widgets: \n",
    "\n",
    "Widgets\tDescription\n",
    "Label\tIt is used to display text or image on the screen\n",
    "Button\tIt is used to add buttons to your application\n",
    "Canvas\tIt is used to draw pictures and others layouts like texts, graphics etc.\n",
    "ComboBox\tIt contains a down arrow to select from list of available options\n",
    "CheckButton\tIt displays a number of options to the user as toggle buttons from which user can select any number of options.\n",
    "RadioButton\tIt is used to implement one-of-many selection as it allows only one option to be selected\n",
    "Entry\tIt is used to input single line text entry from user\n",
    "Frame\tIt is used as container to hold and organize the widgets\n",
    "Message\tIt works same as that of label and refers to multi-line and non-editable text\n",
    "Scale\tIt is used to provide a graphical slider which allows to select any value from that scale\n",
    "Scrollbar\tIt is used to scroll down the contents. It provides a slide controller.\n",
    "SpinBox\tIt is allows user to select from given set of values\n",
    "Text\tIt allows user to edit multiline text and format the way it has to be displayed\n",
    "Menu\tIt is used to create all kinds of menu used by an application"
   ]
  },
  {
   "cell_type": "markdown",
   "id": "05f621ab",
   "metadata": {},
   "source": [
    "**Tkinter Programming**\n",
    "\n",
    "Tkinter is the standard GUI library for Python. Python when combined with Tkinter provides a fast and easy way to create GUI applications. Tkinter provides a powerful object-oriented interface to the Tk GUI toolkit.\n",
    "\n",
    "Creating a GUI application using Tkinter is an easy task. All you need to do is perform the following steps −\n",
    "\n",
    "Import the Tkinter module.\n",
    "\n",
    "Create the GUI application main window.\n",
    "\n",
    "Add one or more of the above-mentioned widgets to the GUI application.\n",
    "\n",
    "Enter the main event loop to take action against each event triggered by the user."
   ]
  },
  {
   "cell_type": "code",
   "execution_count": 1,
   "id": "ea17d84c",
   "metadata": {},
   "outputs": [],
   "source": [
    "from tkinter import *\n",
    "from tkinter.ttk import *\n",
    "   \n",
    "# writing code needs to\n",
    "# create the main window of\n",
    "# the application creating\n",
    "# main window object named root\n",
    "root = Tk()\n",
    " \n",
    "# giving title to the main window\n",
    "root.title(\"First_Program\")\n",
    " \n",
    "# Label is what output will be\n",
    "# show on the window\n",
    "label = Label(root, text =\"Hello World !\").pack()\n",
    " \n",
    "# calling mainloop method which is used\n",
    "# when your application is ready to run\n",
    "# and it tells the code to keep displaying\n",
    "root.mainloop()"
   ]
  },
  {
   "cell_type": "markdown",
   "id": "1abcf95e",
   "metadata": {},
   "source": [
    "There are two main methods used which the user needs to remember while creating the Python application with GUI.\n",
    "\n",
    "Tk(screenName=None,  baseName=None,  className=’Tk’,  useTk=1): To create a main window, tkinter offers a method ‘Tk(screenName=None,  baseName=None,  className=’Tk’,  useTk=1)’. To change the name of the window, you can change the className to the desired one.\n",
    " The basic code used to create the main window of the application is:\n",
    "         \n",
    "     m=tkinter.Tk() where m is the name of the main window object\n",
    "\n",
    "mainloop(): There is a method known by the name mainloop() is used when your application is ready to run. mainloop() is an infinite loop used to run the application, wait for an event to occur and process the event as long as the window is not closed.\n",
    "    \n",
    "     m.mainloop()"
   ]
  },
  {
   "cell_type": "markdown",
   "id": "b2453d5d",
   "metadata": {},
   "source": [
    "tkinter also offers access to the geometric configuration of the widgets which can organize the widgets in the parent windows. There are mainly three geometry manager classes class.\n",
    "\n",
    "pack() method:It organizes the widgets in blocks before placing in the parent widget.\n",
    "\n",
    "grid() method:It organizes the widgets in grid (table-like structure) before placing in the parent widget.\n",
    "\n",
    "place() method:It organizes the widgets by placing them on specific positions directed by the programmer.\n",
    "\n",
    "There are a number of widgets which you can put in your tkinter application. Some of the major widgets are explained below:\n",
    "\n",
    "1.Button:To add a button in your application, this widget is used.\n",
    "        The general syntax is:\n",
    "           w=Button(master, option=value)\n",
    "        master is the parameter used to represent the parent window.\n",
    "        There are number of options which are used to change the format of the Buttons. Number of options can be passed as               parameters separated by commas. Some of them are listed below.\n",
    "\n",
    "        activebackground: to set the background color when button is under the cursor.\n",
    "        activeforeground: to set the foreground color when button is under the cursor.\n",
    "        bg: to set the normal background color.\n",
    "        command: to call a function.\n",
    "        font: to set the font on the button label.\n",
    "        image: to set the image on the button.\n",
    "        width: to set the width of the button.\n",
    "        height: to set the height of the button."
   ]
  },
  {
   "cell_type": "code",
   "execution_count": 3,
   "id": "019a51be",
   "metadata": {},
   "outputs": [],
   "source": [
    "import tkinter as tk\n",
    "r = tk.Tk()\n",
    "r.title('Counting Seconds')\n",
    "button = tk.Button(r, text='Stop', width=55, command=r.destroy)\n",
    "button.pack()\n",
    "r.mainloop()"
   ]
  },
  {
   "cell_type": "markdown",
   "id": "5f80e26f",
   "metadata": {},
   "source": [
    "# Entry:\n",
    "\n",
    "It is used to input the single line text entry from the user.. For multi-line text input, Text widget is used.\n",
    "The general syntax is:\n",
    "  w=Entry(master, option=value)\n",
    "master is the parameter used to represent the parent window.\n",
    "There are number of options which are used to change the format of the widget. Number of options can be passed as parameters separated by commas. Some of them are listed below.\n",
    "\n",
    "        bd: to set the border width in pixels.\n",
    "        bg: to set the normal background color.\n",
    "        cursor: to set the cursor used.\n",
    "        command: to call a function.\n",
    "        highlightcolor: to set the color shown in the focus highlight.\n",
    "        width: to set the width of the button.\n",
    "        height: to set the height of the button."
   ]
  },
  {
   "cell_type": "code",
   "execution_count": 4,
   "id": "c0865546",
   "metadata": {},
   "outputs": [],
   "source": [
    "from tkinter import *\n",
    "master = Tk()\n",
    "Label(master, text='First Name').grid(row=0)\n",
    "Label(master, text='Last Name').grid(row=1)\n",
    "e1 = Entry(master)\n",
    "e2 = Entry(master)\n",
    "e1.grid(row=0, column=2)\n",
    "e2.grid(row=1, column=2)\n",
    "mainloop()"
   ]
  },
  {
   "cell_type": "markdown",
   "id": "dd488dee",
   "metadata": {},
   "source": [
    "# Label: \n",
    "It refers to the display box where you can put any text or image which can be updated any time as per the code.\n",
    "The general syntax is:\n",
    "\n",
    "       w=Label(master, option=value)\n",
    "       \n",
    "master is the parameter used to represent the parent window.\n",
    "There are number of options which are used to change the format of the widget. Number of options can be passed as parameters separated by commas. Some of them are listed below.\n",
    "\n",
    "    bg: to set the normal background color.\n",
    "    bg to set the normal background color.\n",
    "    command: to call a function.\n",
    "    font: to set the font on the button label.\n",
    "    image: to set the image on the button.\n",
    "    width: to set the width of the button.\n",
    "    height” to set the height of the button."
   ]
  },
  {
   "cell_type": "code",
   "execution_count": 10,
   "id": "a1605532",
   "metadata": {},
   "outputs": [],
   "source": [
    "from tkinter import *\n",
    "root = Tk()\n",
    "w = Label(root, text='GeeksForGeeks.org!')\n",
    "w.pack()\n",
    "root.mainloop()"
   ]
  },
  {
   "cell_type": "markdown",
   "id": "46c23087",
   "metadata": {},
   "source": [
    "# RadioButton: \n",
    "\n",
    "It is used to offer multi-choice option to the user. It offers several options to the user and the user has to choose one option.\n",
    "     \n",
    "         The general syntax is:\n",
    "         w = RadioButton(master, option=value)\n",
    "There are number of options which are used to change the format of this widget. Number of options can be passed as parameters separated by commas. Some of them are listed below.\n",
    "\n",
    "    activebackground: to set the background color when widget is under the cursor.\n",
    "    activeforeground: to set the foreground color when widget is under the cursor.\n",
    "    bg: to set the normal background color.\n",
    "    command: to call a function.\n",
    "    font: to set the font on the button label.\n",
    "    image: to set the image on the widget.\n",
    "    width: to set the width of the label in characters.\n",
    "    height: to set the height of the label in characters."
   ]
  },
  {
   "cell_type": "code",
   "execution_count": 5,
   "id": "bcb3d9ad",
   "metadata": {},
   "outputs": [],
   "source": [
    "from tkinter import *\n",
    "root = Tk()\n",
    "v = IntVar()\n",
    "Radiobutton(root, text='GfG', variable=v, value=1).pack(anchor=W)\n",
    "Radiobutton(root, text='MIT', variable=v, value=2).pack(anchor=W)\n",
    "mainloop()"
   ]
  },
  {
   "cell_type": "code",
   "execution_count": 24,
   "id": "8a018395",
   "metadata": {},
   "outputs": [
    {
     "name": "stdout",
     "output_type": "stream",
     "text": [
      "Registraition form is created sucessfully...\n"
     ]
    }
   ],
   "source": [
    "#Create a Registration Window using Tkinter\n",
    "from tkinter import *\n",
    "base = Tk()\n",
    "base.geometry('500x500')\n",
    "base.title(\"Registration Form\")\n",
    "\n",
    "lbl0 = Label(base,text=\"Registration Form\",width=20,font=(\"bold\",20))\n",
    "lbl0.place(x=90,y=53)\n",
    "\n",
    "lbl1 = Label(base,text=\"FullName\",width=20,font=(\"bold\",10))\n",
    "lbl1.place(x=80,y=130)\n",
    "\n",
    "entry1 = Entry(base)\n",
    "entry1.place(x=240,y=130)\n",
    "\n",
    "lbl2= Label(base,text=\"Email\",width=20,font=(\"bold\",10))\n",
    "lbl2.place(x=68,y=180)\n",
    "\n",
    "entry2 = Entry(base)\n",
    "entry2.place(x=240,y=180)\n",
    "\n",
    "lbl3= Label(base,text=\"Gender\",width=20,font=(\"bold\",10))\n",
    "lbl3.place(x=70,y=230)\n",
    "\n",
    "varblbl=IntVar()\n",
    "Radiobutton(base,text=\"Male\",padx=5,variable=varblbl,value=1).place(x=235,y=230)\n",
    "Radiobutton(base,text=\"Female\",padx=20,variable=varblbl,value=2).place(x=290,y=230)\n",
    "\n",
    "lbl4= Label(base,text=\"Age\",width=20,font=(\"bold\",10))\n",
    "lbl4.place(x=70,y=280)\n",
    "\n",
    "entry3 = Entry(base)\n",
    "entry3.place(x=240,y=280)\n",
    "\n",
    "Button(base,text=\"Submit\",width=20,bg='brown',fg='white').place(x=180,y=380)\n",
    "\n",
    "\n",
    "base.mainloop()\n",
    "\n",
    "print(\"Registraition form is created sucessfully...\")"
   ]
  },
  {
   "cell_type": "code",
   "execution_count": null,
   "id": "76fbb830",
   "metadata": {},
   "outputs": [],
   "source": []
  }
 ],
 "metadata": {
  "kernelspec": {
   "display_name": "Python 3 (ipykernel)",
   "language": "python",
   "name": "python3"
  },
  "language_info": {
   "codemirror_mode": {
    "name": "ipython",
    "version": 3
   },
   "file_extension": ".py",
   "mimetype": "text/x-python",
   "name": "python",
   "nbconvert_exporter": "python",
   "pygments_lexer": "ipython3",
   "version": "3.9.6"
  }
 },
 "nbformat": 4,
 "nbformat_minor": 5
}
